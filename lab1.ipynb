{
 "cells": [
  {
   "cell_type": "code",
   "execution_count": 113,
   "id": "e9e2fd46",
   "metadata": {},
   "outputs": [],
   "source": [
    "import numpy as np\n",
    "import pandas as pd\n",
    "from numpy import single, double, longdouble\n",
    "import dataframe_image as dfi\n",
    "\n",
    "pd.set_option(\"display.precision\", 8)"
   ]
  },
  {
   "cell_type": "code",
   "execution_count": 95,
   "id": "9bca38cf",
   "metadata": {},
   "outputs": [],
   "source": [
    "def first_formula(x0, n):\n",
    "    result = np.empty([n])\n",
    "    result[0] = x0\n",
    "    \n",
    "    for i in range(1, n):\n",
    "        result[i] = result[i-1] + 3*result[i-1]*(1 - result[i - 1])\n",
    "    \n",
    "    return result\n",
    "\n",
    "def second_formula(x0, n):\n",
    "    result = np.empty([n])\n",
    "    result[0] = x0\n",
    "    \n",
    "    for i in range(1, n):\n",
    "        result[i] = 4*result[i-1] - 3*result[i-1]*result[i - 1]\n",
    "    \n",
    "    return result"
   ]
  },
  {
   "cell_type": "code",
   "execution_count": 96,
   "id": "76f18f61",
   "metadata": {},
   "outputs": [],
   "source": [
    "def test_first_formula(x0, n):\n",
    "    r1 = first_formula(single(x0), n)\n",
    "    r2 = first_formula(double(x0), n)\n",
    "    r3 = first_formula(longdouble(x0), n)\n",
    "    return [r1, r2, r3]\n",
    "\n",
    "def test_second_formula(x0, n):\n",
    "    r1 = second_formula(single(x0), n)\n",
    "    r2 = second_formula(double(x0), n)\n",
    "    r3 = second_formula(longdouble(x0), n)\n",
    "    return [r1, r2, r3]"
   ]
  },
  {
   "cell_type": "code",
   "execution_count": 107,
   "id": "30c6a4c7",
   "metadata": {},
   "outputs": [
    {
     "name": "stdout",
     "output_type": "stream",
     "text": [
      "             0           1           2           3           4           5   \\\n",
      "float       0.1  0.37000001  1.06930001  0.84699251  1.23578111  0.36165960   \n",
      "double      0.1  0.37000000  1.06930000  0.84699253  1.23578108  0.36165968   \n",
      "longdouble  0.1  0.37000000  1.06930000  0.84699253  1.23578108  0.36165968   \n",
      "\n",
      "                    6           7           8           9   ...          50  \\\n",
      "float       1.05424540  0.88268151  1.19334609  0.50115969  ...  0.00027974   \n",
      "double      1.05424555  0.88268117  1.19334653  0.50115828  ...  0.12276769   \n",
      "longdouble  1.05424555  0.88268117  1.19334653  0.50115828  ...  0.12276769   \n",
      "\n",
      "                    51          52          53          54          55  \\\n",
      "float       0.00111873  0.00447116  0.01782466  0.07034549  0.26653648   \n",
      "double      0.44585505  1.18706002  0.52090559  1.26959446  0.24276755   \n",
      "longdouble  0.44585505  1.18706002  0.52090559  1.26959446  0.24276755   \n",
      "\n",
      "                    56          57          58          59  \n",
      "float       0.85302084  1.22914970  0.38417183  1.09392333  \n",
      "double      0.79426196  1.28449166  0.18821017  0.64657148  \n",
      "longdouble  0.79426196  1.28449166  0.18821017  0.64657148  \n",
      "\n",
      "[3 rows x 60 columns]\n"
     ]
    }
   ],
   "source": [
    "t1 = test_first_formula(0.1, 60)\n",
    "df1 = pd.DataFrame(t1, index=[\"float\", \"double\", \"longdouble\"])\n",
    "print(df1)"
   ]
  },
  {
   "cell_type": "code",
   "execution_count": 108,
   "id": "d1b94e0b",
   "metadata": {
    "scrolled": false
   },
   "outputs": [
    {
     "name": "stdout",
     "output_type": "stream",
     "text": [
      "             0           1           2           3           4           5   \\\n",
      "float       0.1  0.37000001  1.06930001  0.84699251  1.23578111  0.36165960   \n",
      "double      0.1  0.37000000  1.06930000  0.84699253  1.23578108  0.36165968   \n",
      "longdouble  0.1  0.37000000  1.06930000  0.84699253  1.23578108  0.36165968   \n",
      "\n",
      "                    6           7           8           9   ...          50  \\\n",
      "float       1.05424540  0.88268151  1.19334609  0.50115969  ...  0.00700529   \n",
      "double      1.05424555  0.88268117  1.19334653  0.50115828  ...  0.14715664   \n",
      "longdouble  1.05424555  0.88268117  1.19334653  0.50115828  ...  0.14715664   \n",
      "\n",
      "                    51          52          53          54          55  \\\n",
      "float       0.02787393  0.10916486  0.40090856  1.12145121  0.71284638   \n",
      "double      0.52366133  1.27198175  0.23411427  0.77202861  1.30002992   \n",
      "longdouble  0.52366133  1.27198175  0.23411427  0.77202861  1.30002992   \n",
      "\n",
      "                    56         57          58          59  \n",
      "float       1.32693563  0.0254680  0.09992616  0.36974893  \n",
      "double      0.12988632  0.4689339  1.21603859  0.42790481  \n",
      "longdouble  0.12988632  0.4689339  1.21603859  0.42790481  \n",
      "\n",
      "[3 rows x 60 columns]\n"
     ]
    }
   ],
   "source": [
    "t2 = test_second_formula(0.1, 60)\n",
    "df2 = pd.DataFrame(t2, index=[\"float\", \"double\", \"longdouble\"])\n",
    "print(df2)"
   ]
  },
  {
   "cell_type": "code",
   "execution_count": 114,
   "id": "e87a4c64",
   "metadata": {},
   "outputs": [
    {
     "ename": "OSError",
     "evalue": "Chrome executable not able to be found on your machine",
     "output_type": "error",
     "traceback": [
      "\u001b[0;31m---------------------------------------------------------------------------\u001b[0m",
      "\u001b[0;31mOSError\u001b[0m                                   Traceback (most recent call last)",
      "\u001b[0;32m/tmp/ipykernel_4058/1612194679.py\u001b[0m in \u001b[0;36m<module>\u001b[0;34m\u001b[0m\n\u001b[0;32m----> 1\u001b[0;31m \u001b[0mdfi\u001b[0m\u001b[0;34m.\u001b[0m\u001b[0mexport\u001b[0m\u001b[0;34m(\u001b[0m\u001b[0mdf1\u001b[0m\u001b[0;34m,\u001b[0m \u001b[0;34m\"df1.png\"\u001b[0m\u001b[0;34m)\u001b[0m\u001b[0;34m\u001b[0m\u001b[0;34m\u001b[0m\u001b[0m\n\u001b[0m",
      "\u001b[0;32m~/anaconda3/lib/python3.9/site-packages/dataframe_image/_pandas_accessor.py\u001b[0m in \u001b[0;36mexport\u001b[0;34m(obj, filename, fontsize, max_rows, max_cols, table_conversion, chrome_path)\u001b[0m\n\u001b[1;32m     22\u001b[0m def export(obj, filename, fontsize=14, max_rows=None, max_cols=None, \n\u001b[1;32m     23\u001b[0m                table_conversion='chrome', chrome_path=None):\n\u001b[0;32m---> 24\u001b[0;31m         \u001b[0;32mreturn\u001b[0m \u001b[0m_export\u001b[0m\u001b[0;34m(\u001b[0m\u001b[0mobj\u001b[0m\u001b[0;34m,\u001b[0m \u001b[0mfilename\u001b[0m\u001b[0;34m,\u001b[0m \u001b[0mfontsize\u001b[0m\u001b[0;34m,\u001b[0m \u001b[0mmax_rows\u001b[0m\u001b[0;34m,\u001b[0m \u001b[0mmax_cols\u001b[0m\u001b[0;34m,\u001b[0m \u001b[0mtable_conversion\u001b[0m\u001b[0;34m,\u001b[0m \u001b[0mchrome_path\u001b[0m\u001b[0;34m)\u001b[0m\u001b[0;34m\u001b[0m\u001b[0;34m\u001b[0m\u001b[0m\n\u001b[0m\u001b[1;32m     25\u001b[0m \u001b[0;34m\u001b[0m\u001b[0m\n\u001b[1;32m     26\u001b[0m \u001b[0;34m\u001b[0m\u001b[0m\n",
      "\u001b[0;32m~/anaconda3/lib/python3.9/site-packages/dataframe_image/_pandas_accessor.py\u001b[0m in \u001b[0;36m_export\u001b[0;34m(obj, filename, fontsize, max_rows, max_cols, table_conversion, chrome_path)\u001b[0m\n\u001b[1;32m     30\u001b[0m \u001b[0;34m\u001b[0m\u001b[0m\n\u001b[1;32m     31\u001b[0m     \u001b[0;32mif\u001b[0m \u001b[0mtable_conversion\u001b[0m \u001b[0;34m==\u001b[0m \u001b[0;34m'chrome'\u001b[0m\u001b[0;34m:\u001b[0m\u001b[0;34m\u001b[0m\u001b[0;34m\u001b[0m\u001b[0m\n\u001b[0;32m---> 32\u001b[0;31m         converter = Screenshot(max_rows=max_rows, max_cols=max_cols, chrome_path=chrome_path,\n\u001b[0m\u001b[1;32m     33\u001b[0m                                fontsize=fontsize, encode_base64=False, limit_crop=False).run\n\u001b[1;32m     34\u001b[0m     \u001b[0;32melse\u001b[0m\u001b[0;34m:\u001b[0m\u001b[0;34m\u001b[0m\u001b[0;34m\u001b[0m\u001b[0m\n",
      "\u001b[0;32m~/anaconda3/lib/python3.9/site-packages/dataframe_image/_screenshot.py\u001b[0m in \u001b[0;36m__init__\u001b[0;34m(self, center_df, max_rows, max_cols, chrome_path, fontsize, encode_base64, limit_crop)\u001b[0m\n\u001b[1;32m     74\u001b[0m         \u001b[0mself\u001b[0m\u001b[0;34m.\u001b[0m\u001b[0mss_width\u001b[0m \u001b[0;34m=\u001b[0m \u001b[0;36m1400\u001b[0m\u001b[0;34m\u001b[0m\u001b[0;34m\u001b[0m\u001b[0m\n\u001b[1;32m     75\u001b[0m         \u001b[0mself\u001b[0m\u001b[0;34m.\u001b[0m\u001b[0mss_height\u001b[0m \u001b[0;34m=\u001b[0m \u001b[0;36m900\u001b[0m\u001b[0;34m\u001b[0m\u001b[0;34m\u001b[0m\u001b[0m\n\u001b[0;32m---> 76\u001b[0;31m         \u001b[0mself\u001b[0m\u001b[0;34m.\u001b[0m\u001b[0mchrome_path\u001b[0m \u001b[0;34m=\u001b[0m \u001b[0mget_chrome_path\u001b[0m\u001b[0;34m(\u001b[0m\u001b[0mchrome_path\u001b[0m\u001b[0;34m)\u001b[0m\u001b[0;34m\u001b[0m\u001b[0;34m\u001b[0m\u001b[0m\n\u001b[0m\u001b[1;32m     77\u001b[0m         \u001b[0mself\u001b[0m\u001b[0;34m.\u001b[0m\u001b[0mcss\u001b[0m \u001b[0;34m=\u001b[0m \u001b[0mself\u001b[0m\u001b[0;34m.\u001b[0m\u001b[0mget_css\u001b[0m\u001b[0;34m(\u001b[0m\u001b[0mfontsize\u001b[0m\u001b[0;34m)\u001b[0m\u001b[0;34m\u001b[0m\u001b[0;34m\u001b[0m\u001b[0m\n\u001b[1;32m     78\u001b[0m         \u001b[0mself\u001b[0m\u001b[0;34m.\u001b[0m\u001b[0mencode_base64\u001b[0m \u001b[0;34m=\u001b[0m \u001b[0mencode_base64\u001b[0m\u001b[0;34m\u001b[0m\u001b[0;34m\u001b[0m\u001b[0m\n",
      "\u001b[0;32m~/anaconda3/lib/python3.9/site-packages/dataframe_image/_screenshot.py\u001b[0m in \u001b[0;36mget_chrome_path\u001b[0;34m(chrome_path)\u001b[0m\n\u001b[1;32m     50\u001b[0m                 \u001b[0;32mif\u001b[0m \u001b[0mchrome_path\u001b[0m\u001b[0;34m:\u001b[0m\u001b[0;34m\u001b[0m\u001b[0;34m\u001b[0m\u001b[0m\n\u001b[1;32m     51\u001b[0m                     \u001b[0;32mreturn\u001b[0m \u001b[0mchrome_path\u001b[0m\u001b[0;34m\u001b[0m\u001b[0;34m\u001b[0m\u001b[0m\n\u001b[0;32m---> 52\u001b[0;31m         \u001b[0;32mraise\u001b[0m \u001b[0mOSError\u001b[0m\u001b[0;34m(\u001b[0m\u001b[0;34m\"Chrome executable not able to be found on your machine\"\u001b[0m\u001b[0;34m)\u001b[0m\u001b[0;34m\u001b[0m\u001b[0;34m\u001b[0m\u001b[0m\n\u001b[0m\u001b[1;32m     53\u001b[0m     \u001b[0;32melif\u001b[0m \u001b[0msystem\u001b[0m \u001b[0;34m==\u001b[0m \u001b[0;34m\"windows\"\u001b[0m\u001b[0;34m:\u001b[0m\u001b[0;34m\u001b[0m\u001b[0;34m\u001b[0m\u001b[0m\n\u001b[1;32m     54\u001b[0m         \u001b[0;32mimport\u001b[0m \u001b[0mwinreg\u001b[0m\u001b[0;34m\u001b[0m\u001b[0;34m\u001b[0m\u001b[0m\n",
      "\u001b[0;31mOSError\u001b[0m: Chrome executable not able to be found on your machine"
     ]
    }
   ],
   "source": [
    "dfi.export(df1, \"df1.png\")"
   ]
  },
  {
   "cell_type": "code",
   "execution_count": null,
   "id": "3892b633",
   "metadata": {},
   "outputs": [],
   "source": []
  }
 ],
 "metadata": {
  "kernelspec": {
   "display_name": "Python 3 (ipykernel)",
   "language": "python",
   "name": "python3"
  },
  "language_info": {
   "codemirror_mode": {
    "name": "ipython",
    "version": 3
   },
   "file_extension": ".py",
   "mimetype": "text/x-python",
   "name": "python",
   "nbconvert_exporter": "python",
   "pygments_lexer": "ipython3",
   "version": "3.9.7"
  }
 },
 "nbformat": 4,
 "nbformat_minor": 5
}
