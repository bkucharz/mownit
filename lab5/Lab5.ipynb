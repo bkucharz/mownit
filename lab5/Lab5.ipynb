{
 "cells": [
  {
   "cell_type": "code",
   "execution_count": 24,
   "id": "f44219c0",
   "metadata": {},
   "outputs": [],
   "source": [
    "import numpy as np\n",
    "import matplotlib.pyplot as plt\n",
    "from prettytable import PrettyTable\n",
    "import warnings\n",
    "warnings.filterwarnings('ignore')"
   ]
  },
  {
   "cell_type": "markdown",
   "id": "39c67ccf",
   "metadata": {},
   "source": [
    "# Funkcje nieliniowe"
   ]
  },
  {
   "cell_type": "markdown",
   "id": "a7b0e409",
   "metadata": {},
   "source": [
    "## Bartosz Kucharz"
   ]
  },
  {
   "attachments": {},
   "cell_type": "markdown",
   "id": "97cd98b0",
   "metadata": {},
   "source": [
    "# Zadanie 1"
   ]
  },
  {
   "cell_type": "markdown",
   "id": "e4e34dc0",
   "metadata": {},
   "source": [
    "## Zadana funkcja\n",
    "$$f(x)=(x-1)e^{-mx} + x^n$$"
   ]
  },
  {
   "cell_type": "markdown",
   "id": "d38acc5c",
   "metadata": {},
   "source": [
    "$$ n=12,m = 14,[-0.7, 1.1]$$\n"
   ]
  },
  {
   "cell_type": "code",
   "execution_count": 2,
   "id": "466930cd",
   "metadata": {},
   "outputs": [],
   "source": [
    "a = -0.7\n",
    "b = 1.1\n",
    "\n",
    "n = 12\n",
    "m = 14\n",
    "\n",
    "def f(x):\n",
    "    return (x-1)*np.exp(-m*x) + x**n"
   ]
  },
  {
   "cell_type": "code",
   "execution_count": 3,
   "id": "3369bc93",
   "metadata": {
    "scrolled": true
   },
   "outputs": [
    {
     "data": {
      "text/plain": [
       "[<matplotlib.lines.Line2D at 0x7f4c985b75e0>]"
      ]
     },
     "execution_count": 3,
     "metadata": {},
     "output_type": "execute_result"
    },
    {
     "data": {
      "image/png": "[encoded data removed]",
      "text/plain": [
       "<Figure size 432x288 with 1 Axes>"
      ]
     },
     "metadata": {
      "needs_background": "light"
     },
     "output_type": "display_data"
    }
   ],
   "source": [
    "%matplotlib inline\n",
    "X = np.linspace(a, b, 1000)\n",
    "Y = f(X)\n",
    "\n",
    "plt.plot(X, Y)"
   ]
  },
  {
   "cell_type": "markdown",
   "id": "f500f11c",
   "metadata": {},
   "source": [
    "# Implementacja algorytmów wyznaczania pierwisatków równań nieliniowych"
   ]
  },
  {
   "cell_type": "markdown",
   "id": "ea68cdf8",
   "metadata": {},
   "source": [
    "## Kryteria stopu"
   ]
  },
  {
   "cell_type": "markdown",
   "id": "d2dc23b5",
   "metadata": {},
   "source": [
    "### $$\\left | {x^{(i+1)}-x^{(i)}} \\right | < \\rho$$"
   ]
  },
  {
   "cell_type": "code",
   "execution_count": 4,
   "id": "7fa812c8",
   "metadata": {},
   "outputs": [],
   "source": [
    "rhos = [1e-3, 1e-5, 1e-9]"
   ]
  },
  {
   "cell_type": "code",
   "execution_count": 5,
   "id": "52655669",
   "metadata": {},
   "outputs": [],
   "source": [
    "def stop_x(rho, x0, x1):\n",
    "    return np.abs(x1 - x0) < rho\n",
    "    \n",
    "def stop_f(rho, x0, x1):\n",
    "    return np.abs(f(x1)) < rho\n",
    "    "
   ]
  },
  {
   "cell_type": "markdown",
   "id": "8601da92",
   "metadata": {},
   "source": [
    "## Metoda siecznych"
   ]
  },
  {
   "cell_type": "code",
   "execution_count": 6,
   "id": "704a4756",
   "metadata": {},
   "outputs": [],
   "source": [
    "def secant(f, x0, x1, epsilon=1e-12, stop=stop_f):\n",
    "    steps_x, steps_y = [], []\n",
    "    counter = 0\n",
    "\n",
    "    while not stop(epsilon, x1, x0):\n",
    "            x1, x0 = x1 - f(x1)*(x1 - x0)/(f(x1)-f(x0)), x1\n",
    "            counter += 1\n",
    "        \n",
    "    return x1, counter"
   ]
  },
  {
   "cell_type": "markdown",
   "id": "972593eb",
   "metadata": {},
   "source": [
    "## Metoda Newtona"
   ]
  },
  {
   "cell_type": "code",
   "execution_count": 7,
   "id": "79812e9f",
   "metadata": {},
   "outputs": [],
   "source": [
    "def newton_raphson(f, x0, epsilon = 1e-3, stop=stop_f):\n",
    "    def f_p(x):\n",
    "        return np.exp(-m*x)*(-x*m + m + 1) + n*x**(n-1)\n",
    "    \n",
    "    x = x0\n",
    "    counter = 0\n",
    "    last = float('inf')\n",
    "    \n",
    "    while not stop(epsilon, x, last):\n",
    "        last = x\n",
    "\n",
    "        x = x - f(x)/f_p(x)\n",
    "        counter+=1\n",
    "        \n",
    "    return x, counter\n"
   ]
  },
  {
   "cell_type": "markdown",
   "id": "ef270bcd",
   "metadata": {},
   "source": [
    "# Wyznaczanie pierwiastka"
   ]
  },
  {
   "cell_type": "markdown",
   "id": "1c320cee",
   "metadata": {},
   "source": [
    "## Wartość wyznaczona za pomocą silnika WolframAlpha"
   ]
  },
  {
   "cell_type": "markdown",
   "id": "7f92bb82",
   "metadata": {},
   "source": [
    "$$x \\approx 0.51574856472875214594 $$"
   ]
  },
  {
   "cell_type": "markdown",
   "id": "9edd20f2",
   "metadata": {},
   "source": [
    "## Metoda siecznych"
   ]
  },
  {
   "cell_type": "code",
   "execution_count": 8,
   "id": "ddd25f21",
   "metadata": {},
   "outputs": [],
   "source": [
    "def test_secant(f, a, b, step, rho_list, stop):\n",
    "    for rho in rho_list:\n",
    "        print('-'*53)\n",
    "        print('Rho =', rho)\n",
    "        cur_a, cur_b = a, b\n",
    "        x = PrettyTable()\n",
    "        x.field_names = [\"a\", \"b\", \"x0\", \"iterations\"]\n",
    "        while cur_a < cur_b:\n",
    "            x0, counter = secant(f, cur_a, cur_b, rho, stop)\n",
    "            x.add_row([cur_a, cur_b, x0, counter])\n",
    "            \n",
    "            if step > 0:\n",
    "                cur_a = round(cur_a + step, 2)\n",
    "            else:\n",
    "                cur_b = round(cur_b + step, 2)\n",
    "        print(x)\n",
    "        print()\n",
    "            \n",
    "    "
   ]
  },
  {
   "cell_type": "markdown",
   "id": "e0d0f8dd",
   "metadata": {},
   "source": [
    "### Kryterium stopu\n",
    "$$\\left | {x^{(i+1)}-x^{(i)}} \\right | < \\rho$$"
   ]
  },
  {
   "cell_type": "markdown",
   "id": "e5dac8fa",
   "metadata": {},
   "source": [
    "#### Przy stałym a"
   ]
  },
  {
   "cell_type": "code",
   "execution_count": 9,
   "id": "012b32f9",
   "metadata": {
    "scrolled": false
   },
   "outputs": [
    {
     "name": "stdout",
     "output_type": "stream",
     "text": [
      "-----------------------------------------------------\n",
      "Rho = 0.001\n",
      "+------+------+---------------------+------------+\n",
      "|  a   |  b   |          x0         | iterations |\n",
      "+------+------+---------------------+------------+\n",
      "| -0.7 | 1.1  |  0.5336936753747028 |     13     |\n",
      "| -0.7 | 1.0  |  0.5240532041347802 |     12     |\n",
      "| -0.7 | 0.9  |  0.5277512916266145 |     10     |\n",
      "| -0.7 | 0.8  |  0.5285261761768484 |     8      |\n",
      "| -0.7 | 0.7  |  0.5251826090075072 |     6      |\n",
      "| -0.7 | 0.6  |  0.5332625359501886 |     3      |\n",
      "| -0.7 | 0.5  |  0.5000000082903581 |     1      |\n",
      "| -0.7 | 0.4  |  0.4936435812148215 |     3      |\n",
      "| -0.7 | 0.3  | 0.48724452107392835 |     5      |\n",
      "| -0.7 | 0.2  |  0.5091702872650163 |     8      |\n",
      "| -0.7 | 0.1  |  0.5054590306299567 |     10     |\n",
      "| -0.7 | 0.0  |  0.5013608331192829 |     12     |\n",
      "| -0.7 | -0.1 |  0.4970608311531688 |     14     |\n",
      "| -0.7 | -0.2 |  0.4927391730001689 |     16     |\n",
      "| -0.7 | -0.3 |  0.4886767505327251 |     18     |\n",
      "| -0.7 | -0.4 |  0.5115188333912458 |     21     |\n",
      "| -0.7 | -0.5 |  0.5113082989421035 |     23     |\n",
      "| -0.7 | -0.6 |  0.4903647023168099 |     24     |\n",
      "+------+------+---------------------+------------+\n",
      "\n",
      "-----------------------------------------------------\n",
      "Rho = 1e-05\n",
      "+------+------+--------------------+------------+\n",
      "|  a   |  b   |         x0         | iterations |\n",
      "+------+------+--------------------+------------+\n",
      "| -0.7 | 1.1  | 0.5157522702765323 |     16     |\n",
      "| -0.7 | 1.0  | 0.5157486604889435 |     15     |\n",
      "| -0.7 | 0.9  | 0.5157491028473451 |     13     |\n",
      "| -0.7 | 0.8  | 0.5157492905643967 |     11     |\n",
      "| -0.7 | 0.7  | 0.5157487414788464 |     9      |\n",
      "| -0.7 | 0.6  | 0.5157510636085865 |     6      |\n",
      "| -0.7 | 0.5  | 0.5157358059844588 |     3      |\n",
      "| -0.7 | 0.4  | 0.5157484167818206 |     6      |\n",
      "| -0.7 | 0.3  | 0.5157471753251637 |     8      |\n",
      "| -0.7 | 0.2  | 0.5157450521316047 |     10     |\n",
      "| -0.7 | 0.1  | 0.5157458328387577 |     12     |\n",
      "| -0.7 | 0.0  | 0.515756507501372  |     14     |\n",
      "| -0.7 | -0.1 | 0.515748471014923  |     17     |\n",
      "| -0.7 | -0.2 | 0.5157481325675518 |     19     |\n",
      "| -0.7 | -0.3 | 0.5157474267184127 |     21     |\n",
      "| -0.7 | -0.4 | 0.515746606344873  |     23     |\n",
      "| -0.7 | -0.5 | 0.5157464482371467 |     25     |\n",
      "| -0.7 | -0.6 | 0.5157477718561783 |     27     |\n",
      "+------+------+--------------------+------------+\n",
      "\n",
      "-----------------------------------------------------\n",
      "Rho = 1e-09\n",
      "+------+------+--------------------+------------+\n",
      "|  a   |  b   |         x0         | iterations |\n",
      "+------+------+--------------------+------------+\n",
      "| -0.7 | 1.1  | 0.5157485647287896 |     18     |\n",
      "| -0.7 | 1.0  | 0.5157485647287522 |     17     |\n",
      "| -0.7 | 0.9  | 0.5157485647287524 |     15     |\n",
      "| -0.7 | 0.8  | 0.5157485647287526 |     13     |\n",
      "| -0.7 | 0.7  | 0.5157485647287522 |     11     |\n",
      "| -0.7 | 0.6  | 0.515748564728766  |     8      |\n",
      "| -0.7 | 0.5  | 0.5157485647292999 |     5      |\n",
      "| -0.7 | 0.4  | 0.5157485647287522 |     8      |\n",
      "| -0.7 | 0.3  | 0.5157485647287546 |     10     |\n",
      "| -0.7 | 0.2  | 0.5157485647287748 |     12     |\n",
      "| -0.7 | 0.1  | 0.5157485647287595 |     14     |\n",
      "| -0.7 | 0.0  | 0.5157485647286113 |     16     |\n",
      "| -0.7 | -0.1 | 0.5157485647287522 |     19     |\n",
      "| -0.7 | -0.2 | 0.5157485647287523 |     21     |\n",
      "| -0.7 | -0.3 | 0.5157485647287537 |     23     |\n",
      "| -0.7 | -0.4 | 0.515748564728758  |     25     |\n",
      "| -0.7 | -0.5 | 0.5157485647287592 |     27     |\n",
      "| -0.7 | -0.6 | 0.5157485647287527 |     29     |\n",
      "+------+------+--------------------+------------+\n",
      "\n"
     ]
    }
   ],
   "source": [
    "test_secant(f, a, b, -0.1, rhos, stop_f)"
   ]
  },
  {
   "cell_type": "markdown",
   "id": "931a9bdc",
   "metadata": {},
   "source": [
    "#### Przy stałym b"
   ]
  },
  {
   "cell_type": "code",
   "execution_count": 10,
   "id": "e4b217b9",
   "metadata": {
    "scrolled": false
   },
   "outputs": [
    {
     "name": "stdout",
     "output_type": "stream",
     "text": [
      "-----------------------------------------------------\n",
      "Rho = 0.001\n",
      "+------+-----+--------------------+------------+\n",
      "|  a   |  b  |         x0         | iterations |\n",
      "+------+-----+--------------------+------------+\n",
      "| -0.7 | 1.1 | 1.0998157507940247 |     1      |\n",
      "| -0.6 | 1.1 |  1.09925049224397  |     1      |\n",
      "| -0.5 | 1.1 | 0.5157517600067583 |     16     |\n",
      "| -0.4 | 1.1 | 0.5157504933262426 |     16     |\n",
      "| -0.3 | 1.1 | 0.515748737853972  |     16     |\n",
      "| -0.2 | 1.1 | 0.5157496293408209 |     14     |\n",
      "| -0.1 | 1.1 | 0.6040408175805133 |     2      |\n",
      "| 0.0  | 1.1 | 0.5157800507872031 |     9      |\n",
      "| 0.1  | 1.1 | 0.5157644871043251 |     11     |\n",
      "| 0.2  | 1.1 | 0.5157484033428706 |     11     |\n",
      "| 0.3  | 1.1 | 0.5157478539060875 |     9      |\n",
      "| 0.4  | 1.1 | 0.4009773780524495 |     2      |\n",
      "| 0.5  | 1.1 | 0.5000808733427737 |     2      |\n",
      "| 0.6  | 1.1 | 0.5993367902144682 |     2      |\n",
      "| 0.7  | 1.1 | 0.515748674525036  |     10     |\n",
      "| 0.8  | 1.1 | 0.5157487332415227 |     12     |\n",
      "| 0.9  | 1.1 | 0.515755204073494  |     13     |\n",
      "| 1.0  | 1.1 | 0.5157626001611594 |     14     |\n",
      "+------+-----+--------------------+------------+\n",
      "\n",
      "-----------------------------------------------------\n",
      "Rho = 1e-05\n",
      "+------+-----+--------------------+------------+\n",
      "|  a   |  b  |         x0         | iterations |\n",
      "+------+-----+--------------------+------------+\n",
      "| -0.7 | 1.1 | 0.5157485680042905 |     17     |\n",
      "| -0.6 | 1.1 | 0.5157485678541885 |     17     |\n",
      "| -0.5 | 1.1 | 0.5157485673059642 |     17     |\n",
      "| -0.4 | 1.1 | 0.515748565867055  |     17     |\n",
      "| -0.3 | 1.1 | 0.5157485647517418 |     17     |\n",
      "| -0.2 | 1.1 | 0.5157485651637929 |     15     |\n",
      "| -0.1 | 1.1 | 0.5157485698444311 |     8      |\n",
      "| 0.0  | 1.1 | 0.5157485647211022 |     11     |\n",
      "| 0.1  | 1.1 |  0.51574856472769  |     13     |\n",
      "| 0.2  | 1.1 | 0.5157485647058241 |     12     |\n",
      "| 0.3  | 1.1 | 0.5157485645108197 |     10     |\n",
      "| 0.4  | 1.1 | 0.5157485647140905 |     8      |\n",
      "| 0.5  | 1.1 | 0.5157485647292914 |     6      |\n",
      "| 0.6  | 1.1 | 0.5157485662841673 |     8      |\n",
      "| 0.7  | 1.1 | 0.5157485647397264 |     11     |\n",
      "| 0.8  | 1.1 | 0.5157485647507518 |     13     |\n",
      "| 0.9  | 1.1 | 0.5157485731455411 |     14     |\n",
      "| 1.0  | 1.1 | 0.5157485647299743 |     16     |\n",
      "+------+-----+--------------------+------------+\n",
      "\n",
      "-----------------------------------------------------\n",
      "Rho = 1e-09\n",
      "+------+-----+--------------------+------------+\n",
      "|  a   |  b  |         x0         | iterations |\n",
      "+------+-----+--------------------+------------+\n",
      "| -0.7 | 1.1 | 0.5157485647287521 |     19     |\n",
      "| -0.6 | 1.1 | 0.5157485647287522 |     19     |\n",
      "| -0.5 | 1.1 | 0.5157485647287522 |     19     |\n",
      "| -0.4 | 1.1 | 0.5157485647287522 |     19     |\n",
      "| -0.3 | 1.1 | 0.5157485647287522 |     18     |\n",
      "| -0.2 | 1.1 | 0.5157485647287536 |     16     |\n",
      "| -0.1 | 1.1 | 0.5157485647287522 |     10     |\n",
      "| 0.0  | 1.1 | 0.5157485647287522 |     12     |\n",
      "| 0.1  | 1.1 | 0.5157485647287522 |     14     |\n",
      "| 0.2  | 1.1 | 0.5157485647287522 |     13     |\n",
      "| 0.3  | 1.1 | 0.5157485647287526 |     11     |\n",
      "| 0.4  | 1.1 | 0.5157485647287522 |     9      |\n",
      "| 0.5  | 1.1 | 0.5157485647287521 |     7      |\n",
      "| 0.6  | 1.1 | 0.5157485647287522 |     10     |\n",
      "| 0.7  | 1.1 | 0.5157485647287522 |     12     |\n",
      "| 0.8  | 1.1 | 0.5157485647287522 |     14     |\n",
      "| 0.9  | 1.1 | 0.5157485647287522 |     16     |\n",
      "| 1.0  | 1.1 | 0.5157485647287522 |     17     |\n",
      "+------+-----+--------------------+------------+\n",
      "\n"
     ]
    }
   ],
   "source": [
    "test_secant(f, a, b, 0.1, rhos, stop_x)"
   ]
  },
  {
   "cell_type": "markdown",
   "id": "82d99720",
   "metadata": {},
   "source": [
    "### Kryterium stopu\n",
    "$$\\left | f(x^i) \\right | < \\rho$$"
   ]
  },
  {
   "cell_type": "markdown",
   "id": "f231f61f",
   "metadata": {},
   "source": [
    "#### Przy stałym a"
   ]
  },
  {
   "cell_type": "code",
   "execution_count": 11,
   "id": "2835f3e5",
   "metadata": {
    "scrolled": false
   },
   "outputs": [
    {
     "name": "stdout",
     "output_type": "stream",
     "text": [
      "-----------------------------------------------------\n",
      "Rho = 0.001\n",
      "+------+------+---------------------+------------+\n",
      "|  a   |  b   |          x0         | iterations |\n",
      "+------+------+---------------------+------------+\n",
      "| -0.7 | 1.1  |  0.5336936753747028 |     13     |\n",
      "| -0.7 | 1.0  |  0.5240532041347802 |     12     |\n",
      "| -0.7 | 0.9  |  0.5277512916266145 |     10     |\n",
      "| -0.7 | 0.8  |  0.5285261761768484 |     8      |\n",
      "| -0.7 | 0.7  |  0.5251826090075072 |     6      |\n",
      "| -0.7 | 0.6  |  0.5332625359501886 |     3      |\n",
      "| -0.7 | 0.5  |  0.5000000082903581 |     1      |\n",
      "| -0.7 | 0.4  |  0.4936435812148215 |     3      |\n",
      "| -0.7 | 0.3  | 0.48724452107392835 |     5      |\n",
      "| -0.7 | 0.2  |  0.5091702872650163 |     8      |\n",
      "| -0.7 | 0.1  |  0.5054590306299567 |     10     |\n",
      "| -0.7 | 0.0  |  0.5013608331192829 |     12     |\n",
      "| -0.7 | -0.1 |  0.4970608311531688 |     14     |\n",
      "| -0.7 | -0.2 |  0.4927391730001689 |     16     |\n",
      "| -0.7 | -0.3 |  0.4886767505327251 |     18     |\n",
      "| -0.7 | -0.4 |  0.5115188333912458 |     21     |\n",
      "| -0.7 | -0.5 |  0.5113082989421035 |     23     |\n",
      "| -0.7 | -0.6 |  0.4903647023168099 |     24     |\n",
      "+------+------+---------------------+------------+\n",
      "\n",
      "-----------------------------------------------------\n",
      "Rho = 1e-05\n",
      "+------+------+--------------------+------------+\n",
      "|  a   |  b   |         x0         | iterations |\n",
      "+------+------+--------------------+------------+\n",
      "| -0.7 | 1.1  | 0.5157522702765323 |     16     |\n",
      "| -0.7 | 1.0  | 0.5157486604889435 |     15     |\n",
      "| -0.7 | 0.9  | 0.5157491028473451 |     13     |\n",
      "| -0.7 | 0.8  | 0.5157492905643967 |     11     |\n",
      "| -0.7 | 0.7  | 0.5157487414788464 |     9      |\n",
      "| -0.7 | 0.6  | 0.5157510636085865 |     6      |\n",
      "| -0.7 | 0.5  | 0.5157358059844588 |     3      |\n",
      "| -0.7 | 0.4  | 0.5157484167818206 |     6      |\n",
      "| -0.7 | 0.3  | 0.5157471753251637 |     8      |\n",
      "| -0.7 | 0.2  | 0.5157450521316047 |     10     |\n",
      "| -0.7 | 0.1  | 0.5157458328387577 |     12     |\n",
      "| -0.7 | 0.0  | 0.515756507501372  |     14     |\n",
      "| -0.7 | -0.1 | 0.515748471014923  |     17     |\n",
      "| -0.7 | -0.2 | 0.5157481325675518 |     19     |\n",
      "| -0.7 | -0.3 | 0.5157474267184127 |     21     |\n",
      "| -0.7 | -0.4 | 0.515746606344873  |     23     |\n",
      "| -0.7 | -0.5 | 0.5157464482371467 |     25     |\n",
      "| -0.7 | -0.6 | 0.5157477718561783 |     27     |\n",
      "+------+------+--------------------+------------+\n",
      "\n",
      "-----------------------------------------------------\n",
      "Rho = 1e-09\n",
      "+------+------+--------------------+------------+\n",
      "|  a   |  b   |         x0         | iterations |\n",
      "+------+------+--------------------+------------+\n",
      "| -0.7 | 1.1  | 0.5157485647287896 |     18     |\n",
      "| -0.7 | 1.0  | 0.5157485647287522 |     17     |\n",
      "| -0.7 | 0.9  | 0.5157485647287524 |     15     |\n",
      "| -0.7 | 0.8  | 0.5157485647287526 |     13     |\n",
      "| -0.7 | 0.7  | 0.5157485647287522 |     11     |\n",
      "| -0.7 | 0.6  | 0.515748564728766  |     8      |\n",
      "| -0.7 | 0.5  | 0.5157485647292999 |     5      |\n",
      "| -0.7 | 0.4  | 0.5157485647287522 |     8      |\n",
      "| -0.7 | 0.3  | 0.5157485647287546 |     10     |\n",
      "| -0.7 | 0.2  | 0.5157485647287748 |     12     |\n",
      "| -0.7 | 0.1  | 0.5157485647287595 |     14     |\n",
      "| -0.7 | 0.0  | 0.5157485647286113 |     16     |\n",
      "| -0.7 | -0.1 | 0.5157485647287522 |     19     |\n",
      "| -0.7 | -0.2 | 0.5157485647287523 |     21     |\n",
      "| -0.7 | -0.3 | 0.5157485647287537 |     23     |\n",
      "| -0.7 | -0.4 | 0.515748564728758  |     25     |\n",
      "| -0.7 | -0.5 | 0.5157485647287592 |     27     |\n",
      "| -0.7 | -0.6 | 0.5157485647287527 |     29     |\n",
      "+------+------+--------------------+------------+\n",
      "\n"
     ]
    }
   ],
   "source": [
    "test_secant(f, a, b, -0.1, rhos, stop_f)"
   ]
  },
  {
   "cell_type": "markdown",
   "id": "51276064",
   "metadata": {},
   "source": [
    "#### Przy stałym b"
   ]
  },
  {
   "cell_type": "code",
   "execution_count": 12,
   "id": "6b1066cd",
   "metadata": {
    "scrolled": false
   },
   "outputs": [
    {
     "name": "stdout",
     "output_type": "stream",
     "text": [
      "-----------------------------------------------------\n",
      "Rho = 0.001\n",
      "+------+-----+---------------------+------------+\n",
      "|  a   |  b  |          x0         | iterations |\n",
      "+------+-----+---------------------+------------+\n",
      "| -0.7 | 1.1 |  0.5336936753747028 |     13     |\n",
      "| -0.6 | 1.1 |  0.5335869334378017 |     13     |\n",
      "| -0.5 | 1.1 |  0.5331542995092017 |     13     |\n",
      "| -0.4 | 1.1 |  0.5314282354072285 |     13     |\n",
      "| -0.3 | 1.1 |  0.5251805903668469 |     13     |\n",
      "| -0.2 | 1.1 |  0.5296019006369954 |     11     |\n",
      "| -0.1 | 1.1 |  0.5356873245014612 |     4      |\n",
      "| 0.0  | 1.1 |  0.4975564631089038 |     7      |\n",
      "| 0.1  | 1.1 |  0.499763641964815  |     9      |\n",
      "| 0.2  | 1.1 |  0.4957017943749574 |     8      |\n",
      "| 0.3  | 1.1 | 0.49049381320668517 |     6      |\n",
      "| 0.4  | 1.1 | 0.49422744262619034 |     4      |\n",
      "| 0.5  | 1.1 |         1.1         |     0      |\n",
      "| 0.6  | 1.1 |  0.5329495219457052 |     4      |\n",
      "| 0.7  | 1.1 |  0.5242659649324006 |     7      |\n",
      "| 0.8  | 1.1 |  0.5251210756840555 |     9      |\n",
      "| 0.9  | 1.1 |  0.5359753819124653 |     10     |\n",
      "| 1.0  | 1.1 |  0.5392995584562438 |     11     |\n",
      "+------+-----+---------------------+------------+\n",
      "\n",
      "-----------------------------------------------------\n",
      "Rho = 1e-05\n",
      "+------+-----+--------------------+------------+\n",
      "|  a   |  b  |         x0         | iterations |\n",
      "+------+-----+--------------------+------------+\n",
      "| -0.7 | 1.1 | 0.5157522702765323 |     16     |\n",
      "| -0.6 | 1.1 | 0.5157521644115423 |     16     |\n",
      "| -0.5 | 1.1 | 0.5157517600067583 |     16     |\n",
      "| -0.4 | 1.1 | 0.5157504933262426 |     16     |\n",
      "| -0.3 | 1.1 | 0.515748737853972  |     16     |\n",
      "| -0.2 | 1.1 | 0.5157496293408209 |     14     |\n",
      "| -0.1 | 1.1 | 0.5157533521793005 |     7      |\n",
      "| 0.0  | 1.1 | 0.5157484859289295 |     10     |\n",
      "| 0.1  | 1.1 | 0.5157644871043251 |     11     |\n",
      "| 0.2  | 1.1 | 0.5157484033428706 |     11     |\n",
      "| 0.3  | 1.1 | 0.5157478539060875 |     9      |\n",
      "| 0.4  | 1.1 | 0.5157484462059775 |     7      |\n",
      "| 0.5  | 1.1 | 0.515735885869007  |     4      |\n",
      "| 0.6  | 1.1 | 0.515750855945509  |     7      |\n",
      "| 0.7  | 1.1 | 0.515748674525036  |     10     |\n",
      "| 0.8  | 1.1 | 0.5157487332415227 |     12     |\n",
      "| 0.9  | 1.1 | 0.515755204073494  |     13     |\n",
      "| 1.0  | 1.1 | 0.5157626001611594 |     14     |\n",
      "+------+-----+--------------------+------------+\n",
      "\n",
      "-----------------------------------------------------\n",
      "Rho = 1e-09\n",
      "+------+-----+--------------------+------------+\n",
      "|  a   |  b  |         x0         | iterations |\n",
      "+------+-----+--------------------+------------+\n",
      "| -0.7 | 1.1 | 0.5157485647287896 |     18     |\n",
      "| -0.6 | 1.1 | 0.5157485647287868 |     18     |\n",
      "| -0.5 | 1.1 | 0.5157485647287775 |     18     |\n",
      "| -0.4 | 1.1 | 0.5157485647287589 |     18     |\n",
      "| -0.3 | 1.1 | 0.5157485647287522 |     18     |\n",
      "| -0.2 | 1.1 | 0.5157485647287536 |     16     |\n",
      "| -0.1 | 1.1 | 0.5157485647288277 |     9      |\n",
      "| 0.0  | 1.1 | 0.5157485647287522 |     12     |\n",
      "| 0.1  | 1.1 |  0.51574856472769  |     13     |\n",
      "| 0.2  | 1.1 | 0.5157485647287522 |     13     |\n",
      "| 0.3  | 1.1 | 0.5157485647287526 |     11     |\n",
      "| 0.4  | 1.1 | 0.5157485647287522 |     9      |\n",
      "| 0.5  | 1.1 | 0.5157485647292914 |     6      |\n",
      "| 0.6  | 1.1 | 0.5157485647287632 |     9      |\n",
      "| 0.7  | 1.1 | 0.5157485647287522 |     12     |\n",
      "| 0.8  | 1.1 | 0.5157485647287522 |     14     |\n",
      "| 0.9  | 1.1 | 0.5157485647289244 |     15     |\n",
      "| 1.0  | 1.1 | 0.5157485647299743 |     16     |\n",
      "+------+-----+--------------------+------------+\n",
      "\n"
     ]
    }
   ],
   "source": [
    "test_secant(f, a, b, 0.1, rhos, stop_f)"
   ]
  },
  {
   "cell_type": "markdown",
   "id": "628b9810",
   "metadata": {},
   "source": [
    "## Metoda Newtona"
   ]
  },
  {
   "cell_type": "code",
   "execution_count": 13,
   "id": "eabf1122",
   "metadata": {},
   "outputs": [],
   "source": [
    "def test_newton(f, x0, step, rho_list, stop):\n",
    "    for rho in rho_list:\n",
    "        print('-'*53)\n",
    "        print('Rho =', rho)\n",
    "        cur_x = x0\n",
    "        x = PrettyTable()\n",
    "        x.field_names = [\"start x\", \"x0\", \"iterations\"]\n",
    "        while a <= cur_x <= b:\n",
    "            cur_x0, counter = newton_raphson(f, cur_x, rho, stop)\n",
    "            x.add_row([cur_x, cur_x0, counter])\n",
    "            \n",
    "            cur_x = round( cur_x + step, 2)\n",
    "        print(x)\n",
    "        print()"
   ]
  },
  {
   "cell_type": "markdown",
   "id": "62e5ee89",
   "metadata": {},
   "source": [
    "### Kryterium stopu\n",
    "$$\\left | {x^{(i+1)}-x^{(i)}} \\right | < \\rho$$"
   ]
  },
  {
   "cell_type": "markdown",
   "id": "03bc406a",
   "metadata": {},
   "source": [
    "#### Zaczynając od b"
   ]
  },
  {
   "cell_type": "code",
   "execution_count": 14,
   "id": "cf46df33",
   "metadata": {
    "scrolled": true
   },
   "outputs": [
    {
     "name": "stdout",
     "output_type": "stream",
     "text": [
      "-----------------------------------------------------\n",
      "Rho = 0.001\n",
      "+---------+--------------------+------------+\n",
      "| start x |         x0         | iterations |\n",
      "+---------+--------------------+------------+\n",
      "|   1.1   | 0.5157486902415126 |     11     |\n",
      "|   1.0   | 0.5157486104783698 |     10     |\n",
      "|   0.9   | 0.5157485685528187 |     9      |\n",
      "|   0.8   | 0.5157513564350305 |     7      |\n",
      "|   0.7   | 0.5157485795622319 |     6      |\n",
      "|   0.6   | 0.5157487186028589 |     4      |\n",
      "|   0.5   | 0.5157489518579742 |     2      |\n",
      "|   0.4   | 0.5157485952490433 |     4      |\n",
      "|   0.3   | 0.5157485697737031 |     5      |\n",
      "|   0.2   | 0.5157486447341296 |     7      |\n",
      "|   0.1   | 0.5157486425218536 |     8      |\n",
      "|   0.0   | 0.5157486592590539 |     10     |\n",
      "|   -0.1  | 0.5157486142209694 |     11     |\n",
      "|   -0.2  | 0.5157486376273693 |     13     |\n",
      "|   -0.3  | 0.5157485724569524 |     14     |\n",
      "|   -0.4  | 0.5157486037648755 |     16     |\n",
      "|   -0.5  | 0.5157487496753382 |     17     |\n",
      "|   -0.6  | 0.5157485786209821 |     19     |\n",
      "|   -0.7  | 0.5157489750735402 |     20     |\n",
      "+---------+--------------------+------------+\n",
      "\n",
      "-----------------------------------------------------\n",
      "Rho = 1e-05\n",
      "+---------+--------------------+------------+\n",
      "| start x |         x0         | iterations |\n",
      "+---------+--------------------+------------+\n",
      "|   1.1   | 0.5157485647288007 |     12     |\n",
      "|   1.0   | 0.5157485647287586 |     11     |\n",
      "|   0.9   | 0.5157485647287522 |     10     |\n",
      "|   0.8   | 0.5157485647527724 |     8      |\n",
      "|   0.7   | 0.5157485647287529 |     7      |\n",
      "|   0.6   | 0.5157485647288251 |     5      |\n",
      "|   0.5   | 0.515748564729214  |     3      |\n",
      "|   0.4   | 0.515748564728755  |     5      |\n",
      "|   0.3   | 0.5157485647287522 |     6      |\n",
      "|   0.2   | 0.5157485647287718 |     8      |\n",
      "|   0.1   | 0.5157485647287708 |     9      |\n",
      "|   0.0   | 0.5157485647287797 |     11     |\n",
      "|   -0.1  | 0.5157485647287597 |     12     |\n",
      "|   -0.2  | 0.5157485647287685 |     14     |\n",
      "|   -0.3  | 0.5157485647287523 |     15     |\n",
      "|   -0.4  | 0.5157485647287569 |     17     |\n",
      "|   -0.5  | 0.5157485647288576 |     18     |\n",
      "|   -0.6  | 0.5157485647287527 |     20     |\n",
      "|   -0.7  | 0.5157485647292711 |     21     |\n",
      "+---------+--------------------+------------+\n",
      "\n",
      "-----------------------------------------------------\n",
      "Rho = 1e-09\n",
      "+---------+--------------------+------------+\n",
      "| start x |         x0         | iterations |\n",
      "+---------+--------------------+------------+\n",
      "|   1.1   | 0.5157485647287522 |     13     |\n",
      "|   1.0   | 0.5157485647287522 |     12     |\n",
      "|   0.9   | 0.5157485647287522 |     11     |\n",
      "|   0.8   | 0.5157485647287522 |     9      |\n",
      "|   0.7   | 0.5157485647287522 |     8      |\n",
      "|   0.6   | 0.5157485647287521 |     6      |\n",
      "|   0.5   | 0.5157485647287522 |     4      |\n",
      "|   0.4   | 0.5157485647287522 |     6      |\n",
      "|   0.3   | 0.5157485647287522 |     7      |\n",
      "|   0.2   | 0.5157485647287521 |     9      |\n",
      "|   0.1   | 0.5157485647287522 |     10     |\n",
      "|   0.0   | 0.5157485647287522 |     12     |\n",
      "|   -0.1  | 0.5157485647287522 |     13     |\n",
      "|   -0.2  | 0.5157485647287522 |     15     |\n",
      "|   -0.3  | 0.5157485647287522 |     16     |\n",
      "|   -0.4  | 0.5157485647287522 |     18     |\n",
      "|   -0.5  | 0.5157485647287522 |     19     |\n",
      "|   -0.6  | 0.5157485647287522 |     21     |\n",
      "|   -0.7  | 0.5157485647287522 |     22     |\n",
      "+---------+--------------------+------------+\n",
      "\n"
     ]
    }
   ],
   "source": [
    "test_newton(f, b, -0.1, rhos, stop_x)"
   ]
  },
  {
   "cell_type": "markdown",
   "id": "e5b44776",
   "metadata": {},
   "source": [
    "#### Zaczynając od a"
   ]
  },
  {
   "cell_type": "code",
   "execution_count": 15,
   "id": "6910621a",
   "metadata": {
    "scrolled": true
   },
   "outputs": [
    {
     "name": "stdout",
     "output_type": "stream",
     "text": [
      "-----------------------------------------------------\n",
      "Rho = 0.001\n",
      "+---------+--------------------+------------+\n",
      "| start x |         x0         | iterations |\n",
      "+---------+--------------------+------------+\n",
      "|   -0.7  | 0.5157489750735402 |     20     |\n",
      "|   -0.6  | 0.5157485786209821 |     19     |\n",
      "|   -0.5  | 0.5157487496753382 |     17     |\n",
      "|   -0.4  | 0.5157486037648755 |     16     |\n",
      "|   -0.3  | 0.5157485724569524 |     14     |\n",
      "|   -0.2  | 0.5157486376273693 |     13     |\n",
      "|   -0.1  | 0.5157486142209694 |     11     |\n",
      "|   0.0   | 0.5157486592590539 |     10     |\n",
      "|   0.1   | 0.5157486425218536 |     8      |\n",
      "|   0.2   | 0.5157486447341296 |     7      |\n",
      "|   0.3   | 0.5157485697737031 |     5      |\n",
      "|   0.4   | 0.5157485952490433 |     4      |\n",
      "|   0.5   | 0.5157489518579742 |     2      |\n",
      "|   0.6   | 0.5157487186028589 |     4      |\n",
      "|   0.7   | 0.5157485795622319 |     6      |\n",
      "|   0.8   | 0.5157513564350305 |     7      |\n",
      "|   0.9   | 0.5157485685528187 |     9      |\n",
      "|   1.0   | 0.5157486104783698 |     10     |\n",
      "|   1.1   | 0.5157486902415126 |     11     |\n",
      "+---------+--------------------+------------+\n",
      "\n",
      "-----------------------------------------------------\n",
      "Rho = 1e-05\n",
      "+---------+--------------------+------------+\n",
      "| start x |         x0         | iterations |\n",
      "+---------+--------------------+------------+\n",
      "|   -0.7  | 0.5157485647292711 |     21     |\n",
      "|   -0.6  | 0.5157485647287527 |     20     |\n",
      "|   -0.5  | 0.5157485647288576 |     18     |\n",
      "|   -0.4  | 0.5157485647287569 |     17     |\n",
      "|   -0.3  | 0.5157485647287523 |     15     |\n",
      "|   -0.2  | 0.5157485647287685 |     14     |\n",
      "|   -0.1  | 0.5157485647287597 |     12     |\n",
      "|   0.0   | 0.5157485647287797 |     11     |\n",
      "|   0.1   | 0.5157485647287708 |     9      |\n",
      "|   0.2   | 0.5157485647287718 |     8      |\n",
      "|   0.3   | 0.5157485647287522 |     6      |\n",
      "|   0.4   | 0.515748564728755  |     5      |\n",
      "|   0.5   | 0.515748564729214  |     3      |\n",
      "|   0.6   | 0.5157485647288251 |     5      |\n",
      "|   0.7   | 0.5157485647287529 |     7      |\n",
      "|   0.8   | 0.5157485647527724 |     8      |\n",
      "|   0.9   | 0.5157485647287522 |     10     |\n",
      "|   1.0   | 0.5157485647287586 |     11     |\n",
      "|   1.1   | 0.5157485647288007 |     12     |\n",
      "+---------+--------------------+------------+\n",
      "\n",
      "-----------------------------------------------------\n",
      "Rho = 1e-09\n",
      "+---------+--------------------+------------+\n",
      "| start x |         x0         | iterations |\n",
      "+---------+--------------------+------------+\n",
      "|   -0.7  | 0.5157485647287522 |     22     |\n",
      "|   -0.6  | 0.5157485647287522 |     21     |\n",
      "|   -0.5  | 0.5157485647287522 |     19     |\n",
      "|   -0.4  | 0.5157485647287522 |     18     |\n",
      "|   -0.3  | 0.5157485647287522 |     16     |\n",
      "|   -0.2  | 0.5157485647287522 |     15     |\n",
      "|   -0.1  | 0.5157485647287522 |     13     |\n",
      "|   0.0   | 0.5157485647287522 |     12     |\n",
      "|   0.1   | 0.5157485647287522 |     10     |\n",
      "|   0.2   | 0.5157485647287521 |     9      |\n",
      "|   0.3   | 0.5157485647287522 |     7      |\n",
      "|   0.4   | 0.5157485647287522 |     6      |\n",
      "|   0.5   | 0.5157485647287522 |     4      |\n",
      "|   0.6   | 0.5157485647287521 |     6      |\n",
      "|   0.7   | 0.5157485647287522 |     8      |\n",
      "|   0.8   | 0.5157485647287522 |     9      |\n",
      "|   0.9   | 0.5157485647287522 |     11     |\n",
      "|   1.0   | 0.5157485647287522 |     12     |\n",
      "|   1.1   | 0.5157485647287522 |     13     |\n",
      "+---------+--------------------+------------+\n",
      "\n"
     ]
    }
   ],
   "source": [
    "test_newton(f, a, 0.1, rhos, stop_x)"
   ]
  },
  {
   "cell_type": "markdown",
   "id": "33ebb1cc",
   "metadata": {},
   "source": [
    "### Kryterium stopu\n",
    "$$\\left | f(x^i) \\right | < \\rho$$"
   ]
  },
  {
   "cell_type": "markdown",
   "id": "3feafa37",
   "metadata": {},
   "source": [
    "#### Zaczynając od b"
   ]
  },
  {
   "cell_type": "code",
   "execution_count": 25,
   "id": "da99652a",
   "metadata": {},
   "outputs": [
    {
     "name": "stdout",
     "output_type": "stream",
     "text": [
      "-----------------------------------------------------\n",
      "Rho = 0.001\n",
      "+---------+--------------------+------------+\n",
      "| start x |         x0         | iterations |\n",
      "+---------+--------------------+------------+\n",
      "|   1.1   | 0.5230821520470125 |     9      |\n",
      "|   1.0   | 0.5215516862206299 |     8      |\n",
      "|   0.9   | 0.5189744129513688 |     7      |\n",
      "|   0.8   | 0.5305130099982345 |     5      |\n",
      "|   0.7   | 0.5202026016710752 |     4      |\n",
      "|   0.6   | 0.523434159208395  |     2      |\n",
      "|   0.5   | 0.5161010660373018 |     1      |\n",
      "|   0.4   | 0.5093663465654541 |     2      |\n",
      "|   0.3   | 0.5157889994675341 |     4      |\n",
      "|   0.2   | 0.5072261093054499 |     5      |\n",
      "|   0.1   | 0.5155892878309475 |     7      |\n",
      "|   0.0   | 0.5067627354551995 |     8      |\n",
      "|   -0.1  | 0.5156215861343247 |     10     |\n",
      "|   -0.2  | 0.5074701709872498 |     11     |\n",
      "|   -0.3  | 0.515798602789125  |     13     |\n",
      "|   -0.4  | 0.508891630232791  |     14     |\n",
      "|   -0.5  | 0.5159926153511188 |     16     |\n",
      "|   -0.6  | 0.5106420232414604 |     17     |\n",
      "|   -0.7  | 0.5161114240320801 |     19     |\n",
      "+---------+--------------------+------------+\n",
      "\n",
      "-----------------------------------------------------\n",
      "Rho = 1e-05\n",
      "+---------+--------------------+------------+\n",
      "| start x |         x0         | iterations |\n",
      "+---------+--------------------+------------+\n",
      "|   1.1   | 0.5157486902415126 |     11     |\n",
      "|   1.0   | 0.5157486104783698 |     10     |\n",
      "|   0.9   | 0.5157485685528187 |     9      |\n",
      "|   0.8   | 0.5157485647527724 |     8      |\n",
      "|   0.7   | 0.5157485795622319 |     6      |\n",
      "|   0.6   | 0.5157487186028589 |     4      |\n",
      "|   0.5   | 0.5157489518579742 |     2      |\n",
      "|   0.4   | 0.5157485952490433 |     4      |\n",
      "|   0.3   | 0.5157485697737031 |     5      |\n",
      "|   0.2   | 0.5157486447341296 |     7      |\n",
      "|   0.1   | 0.5157486425218536 |     8      |\n",
      "|   0.0   | 0.5157486592590539 |     10     |\n",
      "|   -0.1  | 0.5157486142209694 |     11     |\n",
      "|   -0.2  | 0.5157486376273693 |     13     |\n",
      "|   -0.3  | 0.5157485724569524 |     14     |\n",
      "|   -0.4  | 0.5157486037648755 |     16     |\n",
      "|   -0.5  | 0.5157487496753382 |     17     |\n",
      "|   -0.6  | 0.5157485786209821 |     19     |\n",
      "|   -0.7  | 0.5157489750735402 |     20     |\n",
      "+---------+--------------------+------------+\n",
      "\n",
      "-----------------------------------------------------\n",
      "Rho = 1e-09\n",
      "+---------+--------------------+------------+\n",
      "| start x |         x0         | iterations |\n",
      "+---------+--------------------+------------+\n",
      "|   1.1   | 0.5157485647287522 |     13     |\n",
      "|   1.0   | 0.5157485647287586 |     11     |\n",
      "|   0.9   | 0.5157485647287522 |     10     |\n",
      "|   0.8   | 0.5157485647287522 |     9      |\n",
      "|   0.7   | 0.5157485647287529 |     7      |\n",
      "|   0.6   | 0.5157485647287521 |     6      |\n",
      "|   0.5   | 0.5157485647287522 |     4      |\n",
      "|   0.4   | 0.515748564728755  |     5      |\n",
      "|   0.3   | 0.5157485647287522 |     6      |\n",
      "|   0.2   | 0.5157485647287521 |     9      |\n",
      "|   0.1   | 0.5157485647287522 |     10     |\n",
      "|   0.0   | 0.5157485647287522 |     12     |\n",
      "|   -0.1  | 0.5157485647287597 |     12     |\n",
      "|   -0.2  | 0.5157485647287522 |     15     |\n",
      "|   -0.3  | 0.5157485647287523 |     15     |\n",
      "|   -0.4  | 0.5157485647287569 |     17     |\n",
      "|   -0.5  | 0.5157485647287522 |     19     |\n",
      "|   -0.6  | 0.5157485647287527 |     20     |\n",
      "|   -0.7  | 0.5157485647287522 |     22     |\n",
      "+---------+--------------------+------------+\n",
      "\n"
     ]
    }
   ],
   "source": [
    "test_newton(f, b, -0.1, rhos, stop_f)"
   ]
  },
  {
   "cell_type": "markdown",
   "id": "5510d4ed",
   "metadata": {},
   "source": [
    "#### Zaczynając od a"
   ]
  },
  {
   "cell_type": "code",
   "execution_count": 26,
   "id": "5a996725",
   "metadata": {},
   "outputs": [
    {
     "name": "stdout",
     "output_type": "stream",
     "text": [
      "-----------------------------------------------------\n",
      "Rho = 0.001\n",
      "+---------+--------------------+------------+\n",
      "| start x |         x0         | iterations |\n",
      "+---------+--------------------+------------+\n",
      "|   -0.7  | 0.5161114240320801 |     19     |\n",
      "|   -0.6  | 0.5106420232414604 |     17     |\n",
      "|   -0.5  | 0.5159926153511188 |     16     |\n",
      "|   -0.4  | 0.508891630232791  |     14     |\n",
      "|   -0.3  | 0.515798602789125  |     13     |\n",
      "|   -0.2  | 0.5074701709872498 |     11     |\n",
      "|   -0.1  | 0.5156215861343247 |     10     |\n",
      "|   0.0   | 0.5067627354551995 |     8      |\n",
      "|   0.1   | 0.5155892878309475 |     7      |\n",
      "|   0.2   | 0.5072261093054499 |     5      |\n",
      "|   0.3   | 0.5157889994675341 |     4      |\n",
      "|   0.4   | 0.5093663465654541 |     2      |\n",
      "|   0.5   | 0.5161010660373018 |     1      |\n",
      "|   0.6   | 0.523434159208395  |     2      |\n",
      "|   0.7   | 0.5202026016710752 |     4      |\n",
      "|   0.8   | 0.5305130099982345 |     5      |\n",
      "|   0.9   | 0.5189744129513688 |     7      |\n",
      "|   1.0   | 0.5215516862206299 |     8      |\n",
      "|   1.1   | 0.5230821520470125 |     9      |\n",
      "+---------+--------------------+------------+\n",
      "\n",
      "-----------------------------------------------------\n",
      "Rho = 1e-05\n",
      "+---------+--------------------+------------+\n",
      "| start x |         x0         | iterations |\n",
      "+---------+--------------------+------------+\n",
      "|   -0.7  | 0.5157489750735402 |     20     |\n",
      "|   -0.6  | 0.5157485786209821 |     19     |\n",
      "|   -0.5  | 0.5157487496753382 |     17     |\n",
      "|   -0.4  | 0.5157486037648755 |     16     |\n",
      "|   -0.3  | 0.5157485724569524 |     14     |\n",
      "|   -0.2  | 0.5157486376273693 |     13     |\n",
      "|   -0.1  | 0.5157486142209694 |     11     |\n",
      "|   0.0   | 0.5157486592590539 |     10     |\n",
      "|   0.1   | 0.5157486425218536 |     8      |\n",
      "|   0.2   | 0.5157486447341296 |     7      |\n",
      "|   0.3   | 0.5157485697737031 |     5      |\n",
      "|   0.4   | 0.5157485952490433 |     4      |\n",
      "|   0.5   | 0.5157489518579742 |     2      |\n",
      "|   0.6   | 0.5157487186028589 |     4      |\n",
      "|   0.7   | 0.5157485795622319 |     6      |\n",
      "|   0.8   | 0.5157485647527724 |     8      |\n",
      "|   0.9   | 0.5157485685528187 |     9      |\n",
      "|   1.0   | 0.5157486104783698 |     10     |\n",
      "|   1.1   | 0.5157486902415126 |     11     |\n",
      "+---------+--------------------+------------+\n",
      "\n",
      "-----------------------------------------------------\n",
      "Rho = 1e-09\n",
      "+---------+--------------------+------------+\n",
      "| start x |         x0         | iterations |\n",
      "+---------+--------------------+------------+\n",
      "|   -0.7  | 0.5157485647287522 |     22     |\n",
      "|   -0.6  | 0.5157485647287527 |     20     |\n",
      "|   -0.5  | 0.5157485647287522 |     19     |\n",
      "|   -0.4  | 0.5157485647287569 |     17     |\n",
      "|   -0.3  | 0.5157485647287523 |     15     |\n",
      "|   -0.2  | 0.5157485647287522 |     15     |\n",
      "|   -0.1  | 0.5157485647287597 |     12     |\n",
      "|   0.0   | 0.5157485647287522 |     12     |\n",
      "|   0.1   | 0.5157485647287522 |     10     |\n",
      "|   0.2   | 0.5157485647287521 |     9      |\n",
      "|   0.3   | 0.5157485647287522 |     6      |\n",
      "|   0.4   | 0.515748564728755  |     5      |\n",
      "|   0.5   | 0.5157485647287522 |     4      |\n",
      "|   0.6   | 0.5157485647287521 |     6      |\n",
      "|   0.7   | 0.5157485647287529 |     7      |\n",
      "|   0.8   | 0.5157485647287522 |     9      |\n",
      "|   0.9   | 0.5157485647287522 |     10     |\n",
      "|   1.0   | 0.5157485647287586 |     11     |\n",
      "|   1.1   | 0.5157485647287522 |     13     |\n",
      "+---------+--------------------+------------+\n",
      "\n"
     ]
    }
   ],
   "source": [
    "test_newton(f, a, 0.1, rhos, stop_f)"
   ]
  },
  {
   "cell_type": "markdown",
   "id": "04328025",
   "metadata": {},
   "source": [
    "# Zadanie 2\n",
    "Rozwiąż układ równań metodą Newtiona"
   ]
  },
  {
   "cell_type": "markdown",
   "id": "0d49b8d7",
   "metadata": {},
   "source": [
    "## Zadany układ równań\n",
    "\n",
    "$$x_1^2 + x_2^2 + x_3 = 1\\newline\n",
    "  2x_1^2 - x_2^2 - 4x_3^2 = -3\\newline\n",
    "  x_1^2 + x_2 + x_3 = 1\\newline$$"
   ]
  },
  {
   "cell_type": "code",
   "execution_count": 27,
   "id": "c306080d",
   "metadata": {},
   "outputs": [],
   "source": [
    "def F1(x):\n",
    "    return x[0]**2 + x[1]**2 + x[2] - 1\n",
    "\n",
    "def F1_x1(x):\n",
    "    return 2*x[0]\n",
    "\n",
    "def F1_x2(x):\n",
    "    return 2*x[1]\n",
    "\n",
    "def F1_x3(x):\n",
    "    return 1\n",
    "\n",
    "\n",
    "\n",
    "def F2(x):\n",
    "    return 2*x[0]**2 - x[1]**2 - 4*x[2]**2 + 3\n",
    "\n",
    "def F2_x1(x):\n",
    "    return 4*x[0]\n",
    "\n",
    "def F2_x2(x):\n",
    "    return -2*x[1]\n",
    "\n",
    "def F2_x3(x):\n",
    "    return -8*x[2]\n",
    "\n",
    "\n",
    "\n",
    "def F3(x):\n",
    "    return x[0]**2 + x[1] + x[2] -1\n",
    "\n",
    "def F3_x1(x):\n",
    "    return 2*x[0]\n",
    "\n",
    "def F3_x2(x):\n",
    "    return 1\n",
    "\n",
    "def F3_x3(x):\n",
    "    return 1\n",
    "\n",
    "\n",
    "def F(x):\n",
    "    return np.array([F1(x), F2(x), F3(x)])\n",
    "\n",
    "def J(x):\n",
    "    return np.array([[F1_x1(x), F1_x2(x), F1_x3(x)],\n",
    "                     [F2_x1(x), F2_x2(x), F2_x3(x)],\n",
    "                     [F3_x1(x), F3_x2(x), F3_x3(x)]])"
   ]
  },
  {
   "cell_type": "markdown",
   "id": "b1e42aa2",
   "metadata": {},
   "source": [
    "### Metoda równań Newtona"
   ]
  },
  {
   "cell_type": "code",
   "execution_count": 28,
   "id": "3ca95dd3",
   "metadata": {},
   "outputs": [],
   "source": [
    "def stop_x(rho, x0, x1):\n",
    "    return np.abs(x1 - x0) < rho\n",
    "    \n",
    "def stop_F(rho, x0, x1):\n",
    "    return np.abs(F(x1)) < rho"
   ]
  },
  {
   "cell_type": "code",
   "execution_count": 29,
   "id": "35edd4cd",
   "metadata": {},
   "outputs": [],
   "source": [
    "def newton(F, x0, epsilon = 1e-3, stop=stop_F):\n",
    "    x = x0\n",
    "    counter = 0\n",
    "    divergent = False\n",
    "    last= np.empty(3)\n",
    "    last.fill(10*6)\n",
    "\n",
    "    while not stop(epsilon, x, last).all():\n",
    "        last = x\n",
    "        x = x - np.linalg.inv(J(x)) @ F(x) \n",
    "        counter+=1\n",
    "        if counter > 10000:\n",
    "            divergent = True\n",
    "            break\n",
    "        \n",
    "    return x, counter, divergent"
   ]
  },
  {
   "cell_type": "code",
   "execution_count": 40,
   "id": "715666e5",
   "metadata": {},
   "outputs": [],
   "source": [
    "def test_solving(F, epsilon, stop=stop_F):\n",
    "    solutions = []\n",
    "    div = PrettyTable()\n",
    "    div.field_names = ['Wektory początkowe dla których metoda nie jest zbieżna']\n",
    "    for _ in range(50):\n",
    "        x0 = np.array(np.random.normal(size=3))\n",
    "        x, counter, divergent = newton(F, x0, epsilon, stop)\n",
    "        if not divergent:\n",
    "            solutions.append((x, x0))\n",
    "            div.add_row([x0])\n",
    "    unique_solutions = []\n",
    "    table = PrettyTable()\n",
    "    table.field_names = ['Rozwiązanie', 'Wektor początkowy']\n",
    "    \n",
    "    for solution, x0 in solutions:\n",
    "        temp = unique_solutions\n",
    "        new = True\n",
    "        for unique_solution, u_x0 in temp:\n",
    "            if (np.abs(solution - unique_solution) < epsilon).all():\n",
    "                new = False\n",
    "                break\n",
    "        if new:\n",
    "            unique_solutions.append((solution, x0))\n",
    "    \n",
    "    unique_solutions.sort(key=lambda x: x[0][0])\n",
    "    for solution, x0 in unique_solutions:\n",
    "        table.add_row([np.round(solution,5), x0])\n",
    "\n",
    "    print(table)\n",
    "    return div"
   ]
  },
  {
   "cell_type": "markdown",
   "id": "ec2b82f7",
   "metadata": {},
   "source": [
    "### Kryterium stopu\n",
    "$$\\left | f(x^i) \\right | < \\rho$$"
   ]
  },
  {
   "cell_type": "code",
   "execution_count": 43,
   "id": "bc93ded9",
   "metadata": {
    "scrolled": true
   },
   "outputs": [
    {
     "name": "stdout",
     "output_type": "stream",
     "text": [
      "+------------------------------+---------------------------------------+\n",
      "|         Rozwiązanie          |           Wektor początkowy           |\n",
      "+------------------------------+---------------------------------------+\n",
      "| [-1.54779 -0.      -1.39564] | [-0.76238511 -0.20233794 -1.83138492] |\n",
      "|        [-1.  1. -1.]         | [-0.71957548  0.68463106 -0.60686896] |\n",
      "| [-0.32304  0.       0.89564] | [-1.87731093 -1.12474311 -0.20606026] |\n",
      "|  [0.32304 0.      0.89564]   |   [0.67016256 0.10093349 1.71007973]  |\n",
      "|        [ 1.  1. -1.]         | [ 0.45267599  1.78501596 -0.29032458] |\n",
      "| [ 1.54779 -0.      -1.39564] | [ 0.59915489 -2.0711804  -0.85502025] |\n",
      "+------------------------------+---------------------------------------+\n"
     ]
    }
   ],
   "source": [
    "rest = test_solving(F, 1e-5, stop_F)"
   ]
  },
  {
   "cell_type": "code",
   "execution_count": 44,
   "id": "6903db78",
   "metadata": {},
   "outputs": [
    {
     "name": "stdout",
     "output_type": "stream",
     "text": [
      "+------------------------------+---------------------------------------+\n",
      "|         Rozwiązanie          |           Wektor początkowy           |\n",
      "+------------------------------+---------------------------------------+\n",
      "| [-1.54779  0.      -1.39564] | [-0.3340507  -0.01228922 -1.07811543] |\n",
      "|        [-1.  1. -1.]         | [-0.96288278  2.14522739 -0.63507119] |\n",
      "| [-0.32304  0.       0.89564] | [-1.25902663 -0.6352942   1.98764629] |\n",
      "| [ 0.32304 -0.       0.89564] | [ 2.05985123 -1.93608014  2.07527497] |\n",
      "|        [ 1.  1. -1.]         | [ 0.41210983  1.21219292 -1.56812942] |\n",
      "| [ 1.54779 -0.      -1.39564] | [ 1.29220053  0.07706622 -0.63191262] |\n",
      "+------------------------------+---------------------------------------+\n"
     ]
    }
   ],
   "source": [
    "rest = test_solving(F, 1e-5, stop_F)"
   ]
  },
  {
   "cell_type": "code",
   "execution_count": 45,
   "id": "785d6edb",
   "metadata": {},
   "outputs": [
    {
     "name": "stdout",
     "output_type": "stream",
     "text": [
      "+------------------------------+---------------------------------------+\n",
      "|         Rozwiązanie          |           Wektor początkowy           |\n",
      "+------------------------------+---------------------------------------+\n",
      "| [-1.54779 -0.      -1.39564] | [-0.55018106 -0.25200834 -0.66229715] |\n",
      "|        [-1.  1. -1.]         | [-0.46833765  1.15108251 -1.04037309] |\n",
      "| [-0.32304 -0.       0.89564] | [ 0.03252615 -0.25607117  1.67145238] |\n",
      "| [ 0.32304 -0.       0.89564] | [ 1.0409982  -1.08070775  0.54070671] |\n",
      "|        [ 1.  1. -1.]         | [ 1.23706324  0.92571387 -1.16643184] |\n",
      "| [ 1.54779 -0.      -1.39564] | [ 1.07662514 -1.60720526 -1.74457006] |\n",
      "+------------------------------+---------------------------------------+\n",
      "+--------------------------------------------------------+\n",
      "| Wektory początkowe dla których metoda nie jest zbieżna |\n",
      "+--------------------------------------------------------+\n",
      "|         [-0.55018106 -0.25200834 -0.66229715]          |\n",
      "|         [-0.76109071  0.40408074 -0.40260101]          |\n",
      "|         [ 1.07662514 -1.60720526 -1.74457006]          |\n",
      "|         [ 0.03252615 -0.25607117  1.67145238]          |\n",
      "|         [-0.19445902 -0.06286381 -0.87546553]          |\n",
      "|         [-1.09866684  0.21083651  0.67756631]          |\n",
      "|         [ 1.95733661 -2.0734741  -0.93641315]          |\n",
      "|         [-0.05269349 -0.98331608  1.53495382]          |\n",
      "|         [-0.73209104 -0.18496119 -0.51230741]          |\n",
      "|         [ 1.23706324  0.92571387 -1.16643184]          |\n",
      "|         [-1.39900774  0.06243313  0.16481058]          |\n",
      "|         [ 1.0409982  -1.08070775  0.54070671]          |\n",
      "|         [-1.36039575  0.04757098  0.24816548]          |\n",
      "|         [ 1.01947702 -2.0326752   1.11355923]          |\n",
      "|         [-1.44390377 -0.4633318   0.85362145]          |\n",
      "|         [ 0.2130565   0.04477822 -0.23336265]          |\n",
      "|         [-0.00480793 -1.36181252  0.0997619 ]          |\n",
      "|         [-0.44712951 -2.75361687  0.1509647 ]          |\n",
      "|         [-1.18043679 -0.26034693  2.03795988]          |\n",
      "|         [-0.37940296  0.08191493 -0.4995591 ]          |\n",
      "|         [-0.83825347 -0.64016636 -0.5846376 ]          |\n",
      "|         [ 0.85983271 -0.81324658 -1.57260041]          |\n",
      "|         [ 2.51997961 -0.5766493   1.33738672]          |\n",
      "|         [ 0.48299878 -0.00820353  0.12327066]          |\n",
      "|         [-1.24158394  0.03682051 -0.55317293]          |\n",
      "|         [ 0.6268231  -0.79972474 -0.50389299]          |\n",
      "|         [ 0.92590259 -0.24669794 -0.70445595]          |\n",
      "|         [ 0.36166089 -0.993527    0.69464166]          |\n",
      "|         [ 0.43027728  0.98356112 -1.04561059]          |\n",
      "|         [ 0.42847851 -1.56183075  1.01595436]          |\n",
      "|         [-0.46833765  1.15108251 -1.04037309]          |\n",
      "|         [-0.27066708  0.40103082 -0.41200157]          |\n",
      "|         [-1.01623553 -0.37620581 -1.39073581]          |\n",
      "|         [ 0.27483762 -1.29084848 -1.0904637 ]          |\n",
      "|         [-0.16066091 -1.09265754  0.28070508]          |\n",
      "|         [-0.15848796 -0.57154414 -1.23778716]          |\n",
      "|         [-1.33011205 -0.1660578   1.56830842]          |\n",
      "|         [-0.80586077  0.28561709  0.1765756 ]          |\n",
      "|         [-0.365973   -0.03530746 -0.50570374]          |\n",
      "|         [ 0.08706169 -0.13827546 -2.13181872]          |\n",
      "|         [-0.17632135 -1.04378263 -1.46291134]          |\n",
      "|         [-0.31915145 -0.96947537  0.35403726]          |\n",
      "|         [-1.62500414 -0.69083148 -0.67355627]          |\n",
      "|         [-0.48041131 -0.86255299 -1.0122499 ]          |\n",
      "+--------------------------------------------------------+\n"
     ]
    }
   ],
   "source": [
    "rest = test_solving(F, 1e-5, stop_F)\n",
    "print(rest)"
   ]
  },
  {
   "cell_type": "markdown",
   "id": "f6e043c2",
   "metadata": {},
   "source": [
    "### Kryterium stopu\n",
    "$$\\left | {x^{(i+1)}-x^{(i)}} \\right | < \\rho$$"
   ]
  },
  {
   "cell_type": "code",
   "execution_count": 46,
   "id": "4afa9ba7",
   "metadata": {},
   "outputs": [
    {
     "name": "stdout",
     "output_type": "stream",
     "text": [
      "+------------------------------+---------------------------------------+\n",
      "|         Rozwiązanie          |           Wektor początkowy           |\n",
      "+------------------------------+---------------------------------------+\n",
      "| [-1.54779  0.      -1.39564] | [-0.4338453  -0.61019545 -0.84164839] |\n",
      "|        [-1.  1. -1.]         | [-1.46919058  0.55469841  0.16704534] |\n",
      "| [-0.32304  0.       0.89564] | [ 0.58423436 -0.7493927  -0.17666176] |\n",
      "| [ 0.32304 -0.       0.89564] | [ 1.40443192 -1.21977856  1.46405804] |\n",
      "|        [ 1.  1. -1.]         | [ 0.68459659  0.63462293 -0.63087872] |\n",
      "| [ 1.54779  0.      -1.39564] | [ 0.76580798 -0.18878367 -0.77704763] |\n",
      "+------------------------------+---------------------------------------+\n"
     ]
    }
   ],
   "source": [
    "rest = test_solving(F, 1e-5, stop_x)"
   ]
  },
  {
   "cell_type": "code",
   "execution_count": 47,
   "id": "8438c3cd",
   "metadata": {},
   "outputs": [
    {
     "name": "stdout",
     "output_type": "stream",
     "text": [
      "+------------------------------+---------------------------------------+\n",
      "|         Rozwiązanie          |           Wektor początkowy           |\n",
      "+------------------------------+---------------------------------------+\n",
      "| [-1.54779 -0.      -1.39564] | [-0.49739495  0.31942913 -1.37892026] |\n",
      "|        [-1.  1. -1.]         | [-1.5658208   0.90559742 -1.15430372] |\n",
      "| [-0.32304  0.       0.89564] | [-0.45216086 -0.09016138  1.0168858 ] |\n",
      "|  [0.32304 0.      0.89564]   | [ 0.78390043 -0.27773502  0.07686019] |\n",
      "|        [ 1.  1. -1.]         | [ 0.00317266  0.80548671 -0.42179195] |\n",
      "| [ 1.54779  0.      -1.39564] | [ 0.40992184  0.15424314 -1.49420893] |\n",
      "+------------------------------+---------------------------------------+\n"
     ]
    }
   ],
   "source": [
    "rest = test_solving(F, 1e-5, stop_x)"
   ]
  },
  {
   "cell_type": "code",
   "execution_count": 48,
   "id": "93f5d6b5",
   "metadata": {},
   "outputs": [
    {
     "name": "stdout",
     "output_type": "stream",
     "text": [
      "+------------------------------+---------------------------------------+\n",
      "|         Rozwiązanie          |           Wektor początkowy           |\n",
      "+------------------------------+---------------------------------------+\n",
      "| [-1.54779 -0.      -1.39564] | [-0.10170271 -0.21151856 -0.46423031] |\n",
      "|        [-1.  1. -1.]         | [-0.76176299  1.28382025 -0.69873233] |\n",
      "| [-0.32304  0.       0.89564] | [-0.09577643 -1.22168286  0.50473022] |\n",
      "| [ 0.32304 -0.       0.89564] | [ 0.59256274 -0.35883149  0.88268577] |\n",
      "| [ 1.54779 -0.      -1.39564] | [ 0.23320078 -1.28380089 -0.8521647 ] |\n",
      "+------------------------------+---------------------------------------+\n",
      "+--------------------------------------------------------+\n",
      "| Wektory początkowe dla których metoda nie jest zbieżna |\n",
      "+--------------------------------------------------------+\n",
      "|         [ 0.23320078 -1.28380089 -0.8521647 ]          |\n",
      "|         [-0.10170271 -0.21151856 -0.46423031]          |\n",
      "|         [-0.09577643 -1.22168286  0.50473022]          |\n",
      "|         [-1.18412467 -2.35564174  0.47095433]          |\n",
      "|         [-1.36179639 -0.56759182 -0.81922401]          |\n",
      "|         [ 0.21746956 -1.01342955 -0.54540371]          |\n",
      "|         [ 0.59256274 -0.35883149  0.88268577]          |\n",
      "|         [ 0.30141811  0.01213966 -1.64047857]          |\n",
      "|         [-0.27948617 -0.69361642  1.13618279]          |\n",
      "|         [ 1.49827235 -0.28015821 -0.80724557]          |\n",
      "|         [-0.50772808  0.31795692  1.37339233]          |\n",
      "|         [ 1.844503   -0.06864857 -1.12489736]          |\n",
      "|         [-0.76176299  1.28382025 -0.69873233]          |\n",
      "|         [-0.5000018  -0.21066308 -0.06742963]          |\n",
      "|         [ 0.2967698  -1.11331774 -1.10917318]          |\n",
      "|         [-2.06701771 -0.14263285  1.01222769]          |\n",
      "|         [-0.534012    0.35625858 -0.90403364]          |\n",
      "|         [ 0.2206416  -2.23292564  1.28637474]          |\n",
      "|         [-1.55735004 -0.50641242  0.23215014]          |\n",
      "|         [-0.8152151   0.54387304 -0.11064331]          |\n",
      "|         [-0.56858739 -0.35931127  0.81226276]          |\n",
      "|         [ 0.18579301  0.59958663 -0.58390849]          |\n",
      "|         [-0.82077333 -0.50669564 -0.43382336]          |\n",
      "|         [-0.95049399  0.05178847 -1.43540553]          |\n",
      "|         [-0.47273663 -2.46225625  0.63458466]          |\n",
      "|         [-0.90666434  0.01098712 -0.28069356]          |\n",
      "|         [ 1.03478716 -0.30652793 -0.42249834]          |\n",
      "|         [-1.06015184  0.09238432  1.32926141]          |\n",
      "|         [ 0.85602248  0.48975925 -0.41618551]          |\n",
      "|         [-0.43228665  0.14993979  0.52741519]          |\n",
      "|         [ 2.30548523 -0.45933412 -0.60467962]          |\n",
      "|         [ 1.5903475   0.20495943 -0.6462161 ]          |\n",
      "|           [1.33668542 0.24564019 2.73894846]           |\n",
      "|         [-0.32008728  0.07653934  0.30144304]          |\n",
      "|         [-0.91641787  0.05648928 -1.34687295]          |\n",
      "|         [ 0.89503488 -0.88066606 -0.65979899]          |\n",
      "|           [0.71142257 0.5395827  1.28500483]           |\n",
      "|         [-0.06259376 -0.50483345  0.92655824]          |\n",
      "|         [-1.23336717  1.58021682 -1.24965608]          |\n",
      "|         [ 0.50639574 -0.15738588 -0.98757994]          |\n",
      "|         [ 0.58011153 -0.14706915  1.85087468]          |\n",
      "+--------------------------------------------------------+\n"
     ]
    }
   ],
   "source": [
    "rest = test_solving(F, 1e-5, stop_x)\n",
    "print(rest)"
   ]
  },
  {
   "cell_type": "markdown",
   "id": "1312b639",
   "metadata": {},
   "source": [
    "Do wykrycia wszystkich rozwiązań powtórzono metodę 100 krotnie przyjmując za wektory początkowe z wartości z rozkładu normalnego. W wyniku czego otrzymano 6 rozwiazań układu równań."
   ]
  }
 ],
 "metadata": {
  "kernelspec": {
   "display_name": "Python 3 (ipykernel)",
   "language": "python",
   "name": "python3"
  },
  "language_info": {
   "codemirror_mode": {
    "name": "ipython",
    "version": 3
   },
   "file_extension": ".py",
   "mimetype": "text/x-python",
   "name": "python",
   "nbconvert_exporter": "python",
   "pygments_lexer": "ipython3",
   "version": "3.9.7"
  }
 },
 "nbformat": 4,
 "nbformat_minor": 5
}
