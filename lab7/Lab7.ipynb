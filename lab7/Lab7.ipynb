{
 "cells": [
  {
   "cell_type": "code",
   "execution_count": 1,
   "id": "191a9306",
   "metadata": {
    "pycharm": {
     "name": "#%%\n"
    }
   },
   "outputs": [],
   "source": [
    "import numpy as np\n",
    "from prettytable import PrettyTable\n",
    "from time import time\n",
    "import matplotlib.pyplot as plt\n",
    "from IPython import display"
   ]
  },
  {
   "cell_type": "markdown",
   "id": "6957ae2f",
   "metadata": {
    "pycharm": {
     "name": "#%% md\n"
    }
   },
   "source": [
    "# Rozwiązywanie układów równań liniowych metodami iteracyjnymi"
   ]
  },
  {
   "cell_type": "markdown",
   "id": "9d54a5e7",
   "metadata": {
    "pycharm": {
     "name": "#%% md\n"
    }
   },
   "source": [
    "## Bartosz Kucharz"
   ]
  },
  {
   "cell_type": "markdown",
   "id": "487259db",
   "metadata": {
    "pycharm": {
     "name": "#%% md\n"
    }
   },
   "source": [
    "# Zadany układ"
   ]
  },
  {
   "cell_type": "code",
   "execution_count": 2,
   "id": "63440fdf",
   "metadata": {
    "pycharm": {
     "name": "#%%\n"
    }
   },
   "outputs": [
    {
     "data": {
      "image/png": "[encoded data removed]",
      "text/plain": [
       "<IPython.core.display.Image object>"
      ]
     },
     "execution_count": 2,
     "metadata": {},
     "output_type": "execute_result"
    }
   ],
   "source": [
    "display.Image('rysunek_1.png')"
   ]
  },
  {
   "cell_type": "code",
   "execution_count": 24,
   "id": "321c6484",
   "metadata": {
    "pycharm": {
     "name": "#%%\n"
    }
   },
   "outputs": [
    {
     "data": {
      "image/png": "[encoded data removed]",
      "text/plain": [
       "<IPython.core.display.Image object>"
      ]
     },
     "execution_count": 24,
     "metadata": {},
     "output_type": "execute_result"
    }
   ],
   "source": [
    "display.Image('rysunek_2.png')"
   ]
  },
  {
   "cell_type": "markdown",
   "id": "47dc6d80",
   "metadata": {
    "pycharm": {
     "name": "#%% md\n"
    }
   },
   "source": [
    "$$ k=8, m=1 $$"
   ]
  },
  {
   "cell_type": "code",
   "execution_count": 4,
   "id": "baec19b4",
   "metadata": {
    "pycharm": {
     "name": "#%%\n"
    }
   },
   "outputs": [],
   "source": [
    "k = 8\n",
    "m = 1\n",
    "\n",
    "def create_matrix_A(n):\n",
    "    A = np.dstack(np.indices((n, n), dtype='float64')+1)\n",
    "    A = np.sum(-A, axis=2)\n",
    "    A += n + 0.5\n",
    "    A = m/A\n",
    "    np.fill_diagonal(A, k)\n",
    "\n",
    "    return A\n",
    "\n",
    "def create_x(n, values = [-1, 1]):\n",
    "    return np.random.choice(values, n)\n",
    "\n",
    "def get_b(A, x):\n",
    "    return A@x"
   ]
  },
  {
   "cell_type": "markdown",
   "id": "b29a9fda",
   "metadata": {
    "pycharm": {
     "name": "#%% md\n"
    }
   },
   "source": [
    "# Kryteria stopu"
   ]
  },
  {
   "cell_type": "markdown",
   "id": "ffe5980a",
   "metadata": {
    "pycharm": {
     "name": "#%% md\n"
    }
   },
   "source": [
    "$\\left | \\left | x^{(i+1)}-x^{(i)} \\right | \\right |  < \\rho$"
   ]
  },
  {
   "cell_type": "code",
   "execution_count": 5,
   "id": "6557fe2b",
   "metadata": {
    "pycharm": {
     "name": "#%%\n"
    }
   },
   "outputs": [],
   "source": [
    "def stop_x(A, b, x, last_x, rho):\n",
    "    return norm(x - last_x) < rho"
   ]
  },
  {
   "cell_type": "markdown",
   "id": "9452bcd5",
   "metadata": {
    "pycharm": {
     "name": "#%% md\n"
    }
   },
   "source": [
    "$\\left | \\left | Ax^{(i)}-b \\right | \\right |  < \\rho$"
   ]
  },
  {
   "cell_type": "code",
   "execution_count": 6,
   "id": "2fe84f69",
   "metadata": {
    "pycharm": {
     "name": "#%%\n"
    }
   },
   "outputs": [],
   "source": [
    "def stop_Ax(A, b, x, last_x, rho):\n",
    "    return norm(A@x - b) < rho"
   ]
  },
  {
   "cell_type": "markdown",
   "id": "e5d08b45",
   "metadata": {
    "pycharm": {
     "name": "#%% md\n"
    }
   },
   "source": [
    "# Norma stosowana w obliczeniach\n",
    "$$\\left | \\left | x \\right | \\right |_{\\infty}  = \\max_{i=1}^{n} \\left | x_i \\right |$$"
   ]
  },
  {
   "cell_type": "code",
   "execution_count": 7,
   "id": "842c5b92",
   "metadata": {
    "pycharm": {
     "name": "#%%\n"
    }
   },
   "outputs": [],
   "source": [
    "def norm(x):\n",
    "    return np.max(np.abs(x))"
   ]
  },
  {
   "cell_type": "code",
   "execution_count": 8,
   "id": "b9d7cc74",
   "metadata": {
    "pycharm": {
     "name": "#%%\n"
    }
   },
   "outputs": [],
   "source": [
    "def jacobi_method(A, b, stop, rho=1e-10, x=None):\n",
    "    if x is None:\n",
    "        x = np.zeros(A.shape[0])\n",
    "    start_time = time()\n",
    "    D = np.diag(A)\n",
    "    R = A - np.diagflat(D)\n",
    "    last_x = np.empty(x.shape)\n",
    "    last_x.fill(np.inf)\n",
    "    iterations = 0\n",
    "    while not stop(A, b, x, last_x, rho):\n",
    "        last_x = x\n",
    "        x = (b - np.dot(R,x)) / D\n",
    "        iterations+=1\n",
    "    end_time = time()\n",
    "\n",
    "        \n",
    "    return x, np.round((end_time-start_time)*1e3, 3), iterations"
   ]
  },
  {
   "cell_type": "code",
   "execution_count": 9,
   "id": "3658489a",
   "metadata": {
    "pycharm": {
     "name": "#%%\n"
    }
   },
   "outputs": [],
   "source": [
    "def test(ns, rhos, stop1, stop2, initial_x_values):\n",
    "    table1 = PrettyTable()\n",
    "    table1.field_names = ['n', 'ρ', 'Liczba iteracji', 'Czas [ms]', 'Norma']\n",
    "    table2 = PrettyTable()\n",
    "    table2.field_names = ['n', 'ρ', 'Liczba iteracji', 'Czas [ms]', 'Norma']\n",
    "    for n in ns:\n",
    "        A = create_matrix_A(n)\n",
    "        x = create_x(n)\n",
    "        b = get_b(A, x)\n",
    "        init_x = create_x(n, initial_x_values)\n",
    "\n",
    "        for rho in rhos:\n",
    "            result_x, time, iterations = jacobi_method(A, b, stop1, rho ,init_x)\n",
    "            table1.add_row([n, rho, iterations, time, norm(np.abs(x - result_x))])\n",
    "            \n",
    "            result_x, time, iterations = jacobi_method(A, b, stop2, rho, init_x)\n",
    "            table2.add_row([n, rho, iterations, time, norm(np.abs(x - result_x))])\n",
    "    return table1, table2\n",
    "            "
   ]
  },
  {
   "cell_type": "code",
   "execution_count": null,
   "outputs": [],
   "source": [
    "ns = [5, 50, 100, 500, 1000, 2000, 5000]\n",
    "rhos = [1e-2, 1e-5, 1e-9]"
   ],
   "metadata": {
    "collapsed": false,
    "pycharm": {
     "name": "#%%\n"
    }
   }
  },
  {
   "cell_type": "markdown",
   "source": [
    "# Wyniki"
   ],
   "metadata": {
    "collapsed": false,
    "pycharm": {
     "name": "#%% md\n"
    }
   }
  },
  {
   "cell_type": "markdown",
   "source": [
    "Kolumna \"Norma\" zawiera wartość normy z różnicy między wektorem zadanym na początku a wektorem wyliczonym metodą Jacobiego."
   ],
   "metadata": {
    "collapsed": false,
    "pycharm": {
     "name": "#%% md\n"
    }
   }
  },
  {
   "cell_type": "markdown",
   "source": [
    "## Wyniki dla zerowego wektora początkowego"
   ],
   "metadata": {
    "collapsed": false,
    "pycharm": {
     "name": "#%% md\n"
    }
   }
  },
  {
   "cell_type": "code",
   "execution_count": null,
   "outputs": [],
   "source": [
    "initial_x_vals = [0]\n",
    "table1, table2 = test(ns, rhos, stop_x, stop_Ax, initial_x_vals)"
   ],
   "metadata": {
    "collapsed": false,
    "pycharm": {
     "name": "#%%\n"
    }
   }
  },
  {
   "cell_type": "markdown",
   "source": [
    "### Kryterium stopu $\\left | \\left | x^{(i+1)}-x^{(i)} \\right | \\right |  < \\rho$"
   ],
   "metadata": {
    "collapsed": false,
    "pycharm": {
     "name": "#%% md\n"
    }
   }
  },
  {
   "cell_type": "code",
   "execution_count": null,
   "outputs": [],
   "source": [
    "print(table1)"
   ],
   "metadata": {
    "collapsed": false,
    "pycharm": {
     "name": "#%%\n"
    }
   }
  },
  {
   "cell_type": "markdown",
   "source": [
    "### Kryterium stopu $\\left | \\left | Ax^{(i)}-b \\right | \\right |  < \\rho$"
   ],
   "metadata": {
    "collapsed": false,
    "pycharm": {
     "name": "#%% md\n"
    }
   }
  },
  {
   "cell_type": "code",
   "execution_count": null,
   "outputs": [],
   "source": [
    "print(table2)"
   ],
   "metadata": {
    "collapsed": false,
    "pycharm": {
     "name": "#%%\n"
    }
   }
  },
  {
   "cell_type": "markdown",
   "source": [
    "## Wyniki dla wektora początkowego będącego permutacją zbioru {1000, -1000}"
   ],
   "metadata": {
    "collapsed": false,
    "pycharm": {
     "name": "#%% md\n"
    }
   }
  },
  {
   "cell_type": "code",
   "execution_count": null,
   "outputs": [],
   "source": [
    "initial_values = [10000, -10000]\n",
    "table1, table2 = test(ns, rhos, stop_x, stop_Ax, initial_values)"
   ],
   "metadata": {
    "collapsed": false,
    "pycharm": {
     "name": "#%%\n"
    }
   }
  },
  {
   "cell_type": "markdown",
   "source": [
    "### Kryterium stopu $\\left | \\left | x^{(i+1)}-x^{(i)} \\right | \\right |  < \\rho$"
   ],
   "metadata": {
    "collapsed": false,
    "pycharm": {
     "name": "#%% md\n"
    }
   }
  },
  {
   "cell_type": "code",
   "execution_count": null,
   "outputs": [],
   "source": [
    "print(table1)"
   ],
   "metadata": {
    "collapsed": false,
    "pycharm": {
     "name": "#%%\n"
    }
   }
  },
  {
   "cell_type": "markdown",
   "source": [
    "### Kryterium stopu $\\left | \\left | Ax^{(i)}-b \\right | \\right |  < \\rho$"
   ],
   "metadata": {
    "collapsed": false,
    "pycharm": {
     "name": "#%% md\n"
    }
   }
  },
  {
   "cell_type": "code",
   "execution_count": null,
   "outputs": [],
   "source": [
    "print(table2)"
   ],
   "metadata": {
    "collapsed": false,
    "pycharm": {
     "name": "#%%\n"
    }
   }
  },
  {
   "cell_type": "markdown",
   "source": [
    "## Wnioski"
   ],
   "metadata": {
    "collapsed": false,
    "pycharm": {
     "name": "#%% md\n"
    }
   }
  },
  {
   "cell_type": "markdown",
   "source": [
    "Na podstawie powyższych danych można stwierdzić, że liczba iteracji metody nie zależy od rozmiaru rozwiązywanego układu, a jedynie od wartości $\\rho$. Czas wykonania rośnie wraz z zmniejszeniem $\\rho$ oraz zwiększeniem rozmiaru układu.<br />\n",
    "\n",
    "Stosując kryterium stopu $\\left | \\left | Ax^{(i)}-b \\right | \\right |  < \\rho$ metoda ma dłuższy czas wykonania, co może być związane z koniecznością obliczania macierzy $Ax^(i)$ przy każdej iteracji. Jednakże przy zastosowanmiu tego kryterium wartości normy są o rząd wielkości mniejsze w porównaniu do wyników z kryterium $\\left | \\left | x^{(i+1)}-x^{(i)} \\right | \\right |  < \\rho$.<br />\n",
    "\n",
    "Wybranie wektora początkowego znacznie oddalonego od wektora wynikowego skutkuje zwiększeniem liczby iteracji i wydłużeniem czasu, nie wpływa jednak na dokładność wyniku."
   ],
   "metadata": {
    "collapsed": false,
    "pycharm": {
     "name": "#%% md\n"
    }
   }
  },
  {
   "cell_type": "markdown",
   "source": [
    "# Promień spektralny"
   ],
   "metadata": {
    "collapsed": false,
    "pycharm": {
     "name": "#%% md\n"
    }
   }
  },
  {
   "cell_type": "markdown",
   "source": [
    "Promień spektralny jest wyliczany przy pomocy funkcji z biblioteki numpy (numpy.linalg.eigvals), która zwraca tablice wartości własnych dla zadanej macierzy. Mając wartości własne promień spektralny jest wyliczany ze wzoru: $\\rho(M) = \\max_{i=1}^{n}{|\\lambda_i|}$ gdzie M-macierz iteracji, $\\lambda$-wartość własna."
   ],
   "metadata": {
    "collapsed": false,
    "pycharm": {
     "name": "#%% md\n"
    }
   }
  },
  {
   "cell_type": "code",
   "execution_count": null,
   "outputs": [],
   "source": [
    "def spectral_radii(ns):\n",
    "    table = PrettyTable()\n",
    "    table.field_names = ['n', 'Promień spektralny']\n",
    "    for n in ns:\n",
    "        A = create_matrix_A(n)\n",
    "        D = np.zeros(A.shape)\n",
    "        np.fill_diagonal(D, np.diag(A))\n",
    "        M = np.eye(A.shape[0]) - np.linalg.inv(D)@A\n",
    "        table.add_row([n, np.max(np.abs(np.linalg.eigvals(M)))])\n",
    "    return table"
   ],
   "metadata": {
    "collapsed": false,
    "pycharm": {
     "name": "#%%\n"
    }
   }
  },
  {
   "cell_type": "code",
   "execution_count": null,
   "outputs": [],
   "source": [
    "table = spectral_radii(ns)"
   ],
   "metadata": {
    "collapsed": false,
    "pycharm": {
     "name": "#%%\n"
    }
   }
  },
  {
   "cell_type": "code",
   "execution_count": null,
   "outputs": [],
   "source": [
    "print(table)"
   ],
   "metadata": {
    "collapsed": false,
    "pycharm": {
     "name": "#%%\n"
    }
   }
  },
  {
   "cell_type": "markdown",
   "source": [
    "Wszystkie obliczone wartości promieni spektralnych są mniejsze od 1. Oznacza to, że dla danych rozmiarów macierzy metoda rozwiązywania układu równań jest zbieżna bez względu na wybór wektora początkowego. Zgadza się to z przeprowadzonymi obliczeniami."
   ],
   "metadata": {
    "collapsed": false,
    "pycharm": {
     "name": "#%% md\n"
    }
   }
  },
  {
   "cell_type": "code",
   "execution_count": null,
   "outputs": [],
   "source": [],
   "metadata": {
    "collapsed": false,
    "pycharm": {
     "name": "#%%\n"
    }
   }
  },
  {
   "cell_type": "code",
   "execution_count": 17,
   "id": "9f5e1ce4",
   "metadata": {
    "pycharm": {
     "name": "#%%\n"
    }
   },
   "outputs": [],
   "source": [
    "def spectral_radii(ns):\n",
    "    table = PrettyTable()\n",
    "    table.field_names = ['n', 'Promień spektralny']\n",
    "    for n in ns:\n",
    "        A = create_matrix_A(n)\n",
    "        D = np.zeros(A.shape)\n",
    "        np.fill_diagonal(D, np.diag(A))\n",
    "        M = np.eye(A.shape[0]) - np.linalg.inv(D)@A\n",
    "        table.add_row([n, np.max(np.abs(np.linalg.eigvals(M)))])\n",
    "    return table"
   ]
  },
  {
   "cell_type": "code",
   "execution_count": 18,
   "id": "8f195d1b",
   "metadata": {
    "pycharm": {
     "name": "#%%\n"
    }
   },
   "outputs": [],
   "source": [
    "table = spectral_radii(ns)"
   ]
  },
  {
   "cell_type": "code",
   "execution_count": 19,
   "id": "dd773ba2",
   "metadata": {
    "scrolled": true,
    "pycharm": {
     "name": "#%%\n"
    }
   },
   "outputs": [
    {
     "name": "stdout",
     "output_type": "stream",
     "text": [
      "+------+--------------------+\n",
      "|  n   | Promień spektralny |\n",
      "+------+--------------------+\n",
      "|  5   | 0.4088762274491867 |\n",
      "|  50  | 0.4163044986583178 |\n",
      "| 100  | 0.4166615319528021 |\n",
      "| 500  | 0.416948184556922  |\n",
      "| 1000 | 0.4169838483178467 |\n",
      "| 2000 | 0.4170016586467134 |\n",
      "| 5000 | 0.4170123421211433 |\n",
      "+------+--------------------+\n"
     ]
    }
   ],
   "source": [
    "print(table)"
   ]
  },
  {
   "cell_type": "markdown",
   "id": "83169aea",
   "metadata": {
    "pycharm": {
     "name": "#%% md\n"
    }
   },
   "source": [
    "Wszystkie obliczone wartości promieni spektralnych są mniejsze od 1. Oznacza to, że dla danych rozmiarów macierzy metoda rozwiązywania układu równań jest zbieżna bez względu na wybór wektora początkowego. Zgadza się to z przeprowadzonymi obliczeniami."
   ]
  },
  {
   "cell_type": "code",
   "execution_count": null,
   "id": "150b839c",
   "metadata": {
    "pycharm": {
     "name": "#%%\n"
    }
   },
   "outputs": [],
   "source": []
  }
 ],
 "metadata": {
  "kernelspec": {
   "display_name": "Python 3 (ipykernel)",
   "language": "python",
   "name": "python3"
  },
  "language_info": {
   "codemirror_mode": {
    "name": "ipython",
    "version": 3
   },
   "file_extension": ".py",
   "mimetype": "text/x-python",
   "name": "python",
   "nbconvert_exporter": "python",
   "pygments_lexer": "ipython3",
   "version": "3.9.7"
  }
 },
 "nbformat": 4,
 "nbformat_minor": 5
}